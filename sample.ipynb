{
  "cells": [
    {
      "metadata": {
        "ExecuteTime": {
          "end_time": "2024-05-08T19:35:41.829167Z",
          "start_time": "2024-05-08T19:35:41.640549Z"
        },
        "id": "fbc121e30a2defb3"
      },
      "cell_type": "code",
      "source": [
        "import pandas as pd\n",
        "import numpy as np\n",
        "import matplotlib.pyplot as plt\n",
        "import seaborn as sns\n",
        "import scipy.stats as sts\n",
        "from sklearn.model_selection import train_test_split\n",
        "import warnings\n",
        "warnings.filterwarnings(\"ignore\")\n",
        "plt.style.use(\"seaborn-bright\")\n",
        "%matplotlib inline"
      ],
      "id": "fbc121e30a2defb3",
      "outputs": [],
      "execution_count": null
    },
    {
      "metadata": {
        "id": "e5a0384f54a7bda"
      },
      "cell_type": "markdown",
      "source": [
        "# Данные\n",
        "\n",
        "Описание колонок датасета:\n",
        "\n",
        "*   **customer_id** — Клиентский идентификатор.\n",
        "*   **credit_score** — Кредитный рейтинг.\n",
        "*   **country** — Страна.\n",
        "*   **gender** — Пол.\n",
        "*   **age** — Возраст.\n",
        "*   **tenure** — Стаж.\n",
        "*   **balance** — Баланс.\n",
        "*   **products_number** — Количество продуктов.\n",
        "*   **credit_card** — Кредитная карта.\n",
        "*   **active_member** — Активный член.\n",
        "*   **estimated_salary** — Предполагаемая зарплата.\n",
        "*   **churn** — Отток, используется как целевая переменная. 1, если клиент покинул банк за определенный период, или 0, если нет.\n",
        "\n"
      ],
      "id": "e5a0384f54a7bda"
    },
    {
      "metadata": {
        "id": "efeb4d72066ae74"
      },
      "cell_type": "markdown",
      "source": [
        "# 1. Предобработка данных"
      ],
      "id": "efeb4d72066ae74"
    },
    {
      "metadata": {
        "ExecuteTime": {
          "end_time": "2024-05-08T19:35:41.860670Z",
          "start_time": "2024-05-08T19:35:41.832336Z"
        },
        "id": "f6b3309c34267a83",
        "outputId": "3fe55a70-2b88-475e-daf5-1c5dcd18bd2d"
      },
      "cell_type": "code",
      "source": [
        "# Загрузим данные\n",
        "df = pd.read_csv('data/Bank_Customer_Churn_Prediction.csv')\n",
        "df.head()"
      ],
      "id": "f6b3309c34267a83",
      "outputs": [
        {
          "data": {
            "text/plain": [
              "   customer_id  credit_score country  gender  age  tenure    balance  \\\n",
              "0     15634602           619  France  Female   42       2       0.00   \n",
              "1     15647311           608   Spain  Female   41       1   83807.86   \n",
              "2     15619304           502  France  Female   42       8  159660.80   \n",
              "3     15701354           699  France  Female   39       1       0.00   \n",
              "4     15737888           850   Spain  Female   43       2  125510.82   \n",
              "\n",
              "   products_number  credit_card  active_member  estimated_salary  churn  \n",
              "0                1            1              1         101348.88      1  \n",
              "1                1            0              1         112542.58      0  \n",
              "2                3            1              0         113931.57      1  \n",
              "3                2            0              0          93826.63      0  \n",
              "4                1            1              1          79084.10      0  "
            ],
            "text/html": [
              "<div>\n",
              "<style scoped>\n",
              "    .dataframe tbody tr th:only-of-type {\n",
              "        vertical-align: middle;\n",
              "    }\n",
              "\n",
              "    .dataframe tbody tr th {\n",
              "        vertical-align: top;\n",
              "    }\n",
              "\n",
              "    .dataframe thead th {\n",
              "        text-align: right;\n",
              "    }\n",
              "</style>\n",
              "<table border=\"1\" class=\"dataframe\">\n",
              "  <thead>\n",
              "    <tr style=\"text-align: right;\">\n",
              "      <th></th>\n",
              "      <th>customer_id</th>\n",
              "      <th>credit_score</th>\n",
              "      <th>country</th>\n",
              "      <th>gender</th>\n",
              "      <th>age</th>\n",
              "      <th>tenure</th>\n",
              "      <th>balance</th>\n",
              "      <th>products_number</th>\n",
              "      <th>credit_card</th>\n",
              "      <th>active_member</th>\n",
              "      <th>estimated_salary</th>\n",
              "      <th>churn</th>\n",
              "    </tr>\n",
              "  </thead>\n",
              "  <tbody>\n",
              "    <tr>\n",
              "      <th>0</th>\n",
              "      <td>15634602</td>\n",
              "      <td>619</td>\n",
              "      <td>France</td>\n",
              "      <td>Female</td>\n",
              "      <td>42</td>\n",
              "      <td>2</td>\n",
              "      <td>0.00</td>\n",
              "      <td>1</td>\n",
              "      <td>1</td>\n",
              "      <td>1</td>\n",
              "      <td>101348.88</td>\n",
              "      <td>1</td>\n",
              "    </tr>\n",
              "    <tr>\n",
              "      <th>1</th>\n",
              "      <td>15647311</td>\n",
              "      <td>608</td>\n",
              "      <td>Spain</td>\n",
              "      <td>Female</td>\n",
              "      <td>41</td>\n",
              "      <td>1</td>\n",
              "      <td>83807.86</td>\n",
              "      <td>1</td>\n",
              "      <td>0</td>\n",
              "      <td>1</td>\n",
              "      <td>112542.58</td>\n",
              "      <td>0</td>\n",
              "    </tr>\n",
              "    <tr>\n",
              "      <th>2</th>\n",
              "      <td>15619304</td>\n",
              "      <td>502</td>\n",
              "      <td>France</td>\n",
              "      <td>Female</td>\n",
              "      <td>42</td>\n",
              "      <td>8</td>\n",
              "      <td>159660.80</td>\n",
              "      <td>3</td>\n",
              "      <td>1</td>\n",
              "      <td>0</td>\n",
              "      <td>113931.57</td>\n",
              "      <td>1</td>\n",
              "    </tr>\n",
              "    <tr>\n",
              "      <th>3</th>\n",
              "      <td>15701354</td>\n",
              "      <td>699</td>\n",
              "      <td>France</td>\n",
              "      <td>Female</td>\n",
              "      <td>39</td>\n",
              "      <td>1</td>\n",
              "      <td>0.00</td>\n",
              "      <td>2</td>\n",
              "      <td>0</td>\n",
              "      <td>0</td>\n",
              "      <td>93826.63</td>\n",
              "      <td>0</td>\n",
              "    </tr>\n",
              "    <tr>\n",
              "      <th>4</th>\n",
              "      <td>15737888</td>\n",
              "      <td>850</td>\n",
              "      <td>Spain</td>\n",
              "      <td>Female</td>\n",
              "      <td>43</td>\n",
              "      <td>2</td>\n",
              "      <td>125510.82</td>\n",
              "      <td>1</td>\n",
              "      <td>1</td>\n",
              "      <td>1</td>\n",
              "      <td>79084.10</td>\n",
              "      <td>0</td>\n",
              "    </tr>\n",
              "  </tbody>\n",
              "</table>\n",
              "</div>"
            ]
          },
          "execution_count": 3,
          "metadata": {},
          "output_type": "execute_result"
        }
      ],
      "execution_count": null
    },
    {
      "metadata": {
        "ExecuteTime": {
          "end_time": "2024-05-08T19:35:41.876296Z",
          "start_time": "2024-05-08T19:35:41.862386Z"
        },
        "id": "178633516a7a58c2",
        "outputId": "109b17d0-1fd2-44f5-c2b5-e9491c0920d3"
      },
      "cell_type": "code",
      "source": [
        "# общая информация о датасете\n",
        "df.info()\n"
      ],
      "id": "178633516a7a58c2",
      "outputs": [
        {
          "name": "stdout",
          "output_type": "stream",
          "text": [
            "<class 'pandas.core.frame.DataFrame'>\n",
            "RangeIndex: 10000 entries, 0 to 9999\n",
            "Data columns (total 12 columns):\n",
            " #   Column            Non-Null Count  Dtype  \n",
            "---  ------            --------------  -----  \n",
            " 0   customer_id       10000 non-null  int64  \n",
            " 1   credit_score      10000 non-null  int64  \n",
            " 2   country           10000 non-null  object \n",
            " 3   gender            10000 non-null  object \n",
            " 4   age               10000 non-null  int64  \n",
            " 5   tenure            10000 non-null  int64  \n",
            " 6   balance           10000 non-null  float64\n",
            " 7   products_number   10000 non-null  int64  \n",
            " 8   credit_card       10000 non-null  int64  \n",
            " 9   active_member     10000 non-null  int64  \n",
            " 10  estimated_salary  10000 non-null  float64\n",
            " 11  churn             10000 non-null  int64  \n",
            "dtypes: float64(2), int64(8), object(2)\n",
            "memory usage: 937.6+ KB\n"
          ]
        }
      ],
      "execution_count": null
    },
    {
      "metadata": {
        "id": "8ddaa9c334c7664c"
      },
      "cell_type": "markdown",
      "source": [
        "\n",
        "В датасете содержатся следующие типы данных:\n",
        "\n",
        "* customer_id: Столбец содержит числовые идентификаторы клиентов банка.\n",
        "* credit_score: Здесь представлены числовые значения кредитного рейтинга клиентов.\n",
        "* country: Столбец указывает на страну клиента и содержит категориальные данные (названия стран).\n",
        "* gender: Столбец содержит информацию о поле клиента, категориальные данные: \"Female\" и \"Male\".\n",
        "* age: Возраст клиентов, представлен числовыми значениями.\n",
        "* tenure: Столбец содержит числовые значения, представляющие стаж клиентов в банке.\n",
        "* balance: Баланс клиентов на их счетах, представлен числовыми значениями.\n",
        "* products_number: Число продуктов, используемых клиентами, представлено числовыми данными.\n",
        "* credit_card: Данный столбец, является бинарным, указывая, имеет ли клиент кредитную карту. Принимает значения 0 (нет) и 1 (да).\n",
        "* active_member: Бинарный столбец, указывающий, является ли клиент активным членом банка. Также принимает значения 0 (неактивный) и 1       (активный).\n",
        "* estimated_salary: Предполагаемая зарплата клиентов, представлен числовыми значениями.\n",
        "* churn: Целевая переменная, указывающая на отток клиента. Она также бинарна, принимая значения 0 (не произошел отток) и 1 (произошел отток).\n",
        "\n",
        "В этом датасете присутствуют числовые, категориальные и бинарные типы данных."
      ],
      "id": "8ddaa9c334c7664c"
    },
    {
      "metadata": {
        "ExecuteTime": {
          "end_time": "2024-05-08T19:35:41.891025Z",
          "start_time": "2024-05-08T19:35:41.878450Z"
        },
        "id": "c59ae6298be86330",
        "outputId": "bb165800-2b89-4979-cd05-8eaf9306de06"
      },
      "cell_type": "code",
      "source": [
        "df.isnull().sum() # Пропусков нет"
      ],
      "id": "c59ae6298be86330",
      "outputs": [
        {
          "data": {
            "text/plain": [
              "customer_id         0\n",
              "credit_score        0\n",
              "country             0\n",
              "gender              0\n",
              "age                 0\n",
              "tenure              0\n",
              "balance             0\n",
              "products_number     0\n",
              "credit_card         0\n",
              "active_member       0\n",
              "estimated_salary    0\n",
              "churn               0\n",
              "dtype: int64"
            ]
          },
          "execution_count": 5,
          "metadata": {},
          "output_type": "execute_result"
        }
      ],
      "execution_count": null
    },
    {
      "metadata": {
        "ExecuteTime": {
          "end_time": "2024-05-08T19:35:41.906268Z",
          "start_time": "2024-05-08T19:35:41.892026Z"
        },
        "id": "52d22edc2449b5f8",
        "outputId": "728c4748-b1e0-425d-c900-8dc4c9bee0ee"
      },
      "cell_type": "code",
      "source": [
        "# Выделим колонки с категориальными признаками\n",
        "categorical_columns = df.select_dtypes(include=['object']).columns\n",
        "\n",
        "# Посмотрим на зачения категориальных переменных, чтобы убедиться что\n",
        "# нет пропусков (пустых строк, незначимых строк)\n",
        "for i in categorical_columns:\n",
        "  print(i)\n",
        "  print(df[i].value_counts(), end='\\n\\n')"
      ],
      "id": "52d22edc2449b5f8",
      "outputs": [
        {
          "name": "stdout",
          "output_type": "stream",
          "text": [
            "country\n",
            "France     5014\n",
            "Germany    2509\n",
            "Spain      2477\n",
            "Name: country, dtype: int64\n",
            "\n",
            "gender\n",
            "Male      5457\n",
            "Female    4543\n",
            "Name: gender, dtype: int64\n",
            "\n"
          ]
        }
      ],
      "execution_count": null
    },
    {
      "metadata": {
        "ExecuteTime": {
          "end_time": "2024-05-08T19:35:41.922023Z",
          "start_time": "2024-05-08T19:35:41.908388Z"
        },
        "id": "f1d9995afec78a26",
        "outputId": "6746f05f-8393-4fcd-d2f8-1cd67591a569"
      },
      "cell_type": "code",
      "source": [
        "# Удалим колонку уникальных индификаторов customer_id\n",
        "print(\"Количество повротов в колонке customer_id: \", len(df) - df.customer_id.nunique())\n",
        "df.drop(columns='customer_id', inplace=True)"
      ],
      "id": "f1d9995afec78a26",
      "outputs": [
        {
          "name": "stdout",
          "output_type": "stream",
          "text": [
            "Количество повротов в колонке customer_id:  0\n"
          ]
        }
      ],
      "execution_count": null
    },
    {
      "metadata": {
        "id": "f2cb8d0ddd8f874a"
      },
      "cell_type": "markdown",
      "source": [
        "# EDA"
      ],
      "id": "f2cb8d0ddd8f874a"
    },
    {
      "metadata": {
        "id": "48dc9b2e0aad5bdb"
      },
      "cell_type": "markdown",
      "source": [
        "Разделим датасет на тестовую и тренировочную выборки, чтобы проводить EDA только по тренировочной"
      ],
      "id": "48dc9b2e0aad5bdb"
    },
    {
      "metadata": {
        "ExecuteTime": {
          "end_time": "2024-05-08T19:35:41.953449Z",
          "start_time": "2024-05-08T19:35:41.924514Z"
        },
        "id": "f9ba6f82fa428dd9",
        "outputId": "3f912cae-e660-4523-c7f7-93dbe78b34d8"
      },
      "cell_type": "code",
      "source": [
        "# Делим датасет на тренировочную и тестовую выборки\n",
        "X = df.drop(columns='churn')\n",
        "y = df['churn']\n",
        "\n",
        "X_train, X_test, y_train, y_test = train_test_split(X, y, test_size=0.25, stratify=y, random_state =42)\n",
        "\n",
        "df_train = X_train.assign(churn=y_train)\n",
        "df_test = X_test.assign(churn=y_test)\n",
        "\n",
        "len(df_train), len(df_test)"
      ],
      "id": "f9ba6f82fa428dd9",
      "outputs": [
        {
          "data": {
            "text/plain": [
              "(7500, 2500)"
            ]
          },
          "execution_count": 8,
          "metadata": {},
          "output_type": "execute_result"
        }
      ],
      "execution_count": null
    },
    {
      "metadata": {
        "id": "8851165ae29d5379"
      },
      "cell_type": "markdown",
      "source": [
        "Выведем основные статистики данных: среднее, медиана, перцентили (0.25, 0.5, 0.75), минимум, максимум, стандартное отклонение."
      ],
      "id": "8851165ae29d5379"
    },
    {
      "metadata": {
        "ExecuteTime": {
          "end_time": "2024-05-08T19:35:42.063158Z",
          "start_time": "2024-05-08T19:35:42.020918Z"
        },
        "id": "9e8307227f92fa67",
        "outputId": "548946a4-61f3-4bb7-c55b-b31a2ffb7c7f"
      },
      "cell_type": "code",
      "source": [
        "df_train.describe()"
      ],
      "id": "9e8307227f92fa67",
      "outputs": [
        {
          "data": {
            "text/plain": [
              "       credit_score         age       tenure        balance  products_number  \\\n",
              "count   7500.000000  7500.00000  7500.000000    7500.000000      7500.000000   \n",
              "mean     650.507733    38.98000     5.022800   76328.197195         1.532267   \n",
              "std       96.637724    10.55188     2.893613   62385.961630         0.581897   \n",
              "min      350.000000    18.00000     0.000000       0.000000         1.000000   \n",
              "25%      584.000000    32.00000     3.000000       0.000000         1.000000   \n",
              "50%      652.000000    37.00000     5.000000   96943.320000         1.000000   \n",
              "75%      717.000000    44.00000     8.000000  127785.447500         2.000000   \n",
              "max      850.000000    92.00000    10.000000  222267.630000         4.000000   \n",
              "\n",
              "       credit_card  active_member  estimated_salary        churn  \n",
              "count  7500.000000    7500.000000       7500.000000  7500.000000  \n",
              "mean      0.707200       0.516667      99540.472065     0.203733  \n",
              "std       0.455078       0.499755      57295.127395     0.402800  \n",
              "min       0.000000       0.000000         11.580000     0.000000  \n",
              "25%       0.000000       0.000000      50417.950000     0.000000  \n",
              "50%       1.000000       1.000000      98940.675000     0.000000  \n",
              "75%       1.000000       1.000000     148428.572500     0.000000  \n",
              "max       1.000000       1.000000     199992.480000     1.000000  "
            ],
            "text/html": [
              "<div>\n",
              "<style scoped>\n",
              "    .dataframe tbody tr th:only-of-type {\n",
              "        vertical-align: middle;\n",
              "    }\n",
              "\n",
              "    .dataframe tbody tr th {\n",
              "        vertical-align: top;\n",
              "    }\n",
              "\n",
              "    .dataframe thead th {\n",
              "        text-align: right;\n",
              "    }\n",
              "</style>\n",
              "<table border=\"1\" class=\"dataframe\">\n",
              "  <thead>\n",
              "    <tr style=\"text-align: right;\">\n",
              "      <th></th>\n",
              "      <th>credit_score</th>\n",
              "      <th>age</th>\n",
              "      <th>tenure</th>\n",
              "      <th>balance</th>\n",
              "      <th>products_number</th>\n",
              "      <th>credit_card</th>\n",
              "      <th>active_member</th>\n",
              "      <th>estimated_salary</th>\n",
              "      <th>churn</th>\n",
              "    </tr>\n",
              "  </thead>\n",
              "  <tbody>\n",
              "    <tr>\n",
              "      <th>count</th>\n",
              "      <td>7500.000000</td>\n",
              "      <td>7500.00000</td>\n",
              "      <td>7500.000000</td>\n",
              "      <td>7500.000000</td>\n",
              "      <td>7500.000000</td>\n",
              "      <td>7500.000000</td>\n",
              "      <td>7500.000000</td>\n",
              "      <td>7500.000000</td>\n",
              "      <td>7500.000000</td>\n",
              "    </tr>\n",
              "    <tr>\n",
              "      <th>mean</th>\n",
              "      <td>650.507733</td>\n",
              "      <td>38.98000</td>\n",
              "      <td>5.022800</td>\n",
              "      <td>76328.197195</td>\n",
              "      <td>1.532267</td>\n",
              "      <td>0.707200</td>\n",
              "      <td>0.516667</td>\n",
              "      <td>99540.472065</td>\n",
              "      <td>0.203733</td>\n",
              "    </tr>\n",
              "    <tr>\n",
              "      <th>std</th>\n",
              "      <td>96.637724</td>\n",
              "      <td>10.55188</td>\n",
              "      <td>2.893613</td>\n",
              "      <td>62385.961630</td>\n",
              "      <td>0.581897</td>\n",
              "      <td>0.455078</td>\n",
              "      <td>0.499755</td>\n",
              "      <td>57295.127395</td>\n",
              "      <td>0.402800</td>\n",
              "    </tr>\n",
              "    <tr>\n",
              "      <th>min</th>\n",
              "      <td>350.000000</td>\n",
              "      <td>18.00000</td>\n",
              "      <td>0.000000</td>\n",
              "      <td>0.000000</td>\n",
              "      <td>1.000000</td>\n",
              "      <td>0.000000</td>\n",
              "      <td>0.000000</td>\n",
              "      <td>11.580000</td>\n",
              "      <td>0.000000</td>\n",
              "    </tr>\n",
              "    <tr>\n",
              "      <th>25%</th>\n",
              "      <td>584.000000</td>\n",
              "      <td>32.00000</td>\n",
              "      <td>3.000000</td>\n",
              "      <td>0.000000</td>\n",
              "      <td>1.000000</td>\n",
              "      <td>0.000000</td>\n",
              "      <td>0.000000</td>\n",
              "      <td>50417.950000</td>\n",
              "      <td>0.000000</td>\n",
              "    </tr>\n",
              "    <tr>\n",
              "      <th>50%</th>\n",
              "      <td>652.000000</td>\n",
              "      <td>37.00000</td>\n",
              "      <td>5.000000</td>\n",
              "      <td>96943.320000</td>\n",
              "      <td>1.000000</td>\n",
              "      <td>1.000000</td>\n",
              "      <td>1.000000</td>\n",
              "      <td>98940.675000</td>\n",
              "      <td>0.000000</td>\n",
              "    </tr>\n",
              "    <tr>\n",
              "      <th>75%</th>\n",
              "      <td>717.000000</td>\n",
              "      <td>44.00000</td>\n",
              "      <td>8.000000</td>\n",
              "      <td>127785.447500</td>\n",
              "      <td>2.000000</td>\n",
              "      <td>1.000000</td>\n",
              "      <td>1.000000</td>\n",
              "      <td>148428.572500</td>\n",
              "      <td>0.000000</td>\n",
              "    </tr>\n",
              "    <tr>\n",
              "      <th>max</th>\n",
              "      <td>850.000000</td>\n",
              "      <td>92.00000</td>\n",
              "      <td>10.000000</td>\n",
              "      <td>222267.630000</td>\n",
              "      <td>4.000000</td>\n",
              "      <td>1.000000</td>\n",
              "      <td>1.000000</td>\n",
              "      <td>199992.480000</td>\n",
              "      <td>1.000000</td>\n",
              "    </tr>\n",
              "  </tbody>\n",
              "</table>\n",
              "</div>"
            ]
          },
          "execution_count": 9,
          "metadata": {},
          "output_type": "execute_result"
        }
      ],
      "execution_count": null
    },
    {
      "metadata": {
        "ExecuteTime": {
          "end_time": "2024-05-08T19:35:42.156945Z",
          "start_time": "2024-05-08T19:35:42.132967Z"
        },
        "id": "3ff8d7dd16e07897",
        "outputId": "e4262535-4baa-4cd9-d2c5-b35ae0a169b5"
      },
      "cell_type": "code",
      "source": [
        "features = df_train.columns.drop('churn')\n",
        "subsets = ['credit_score']\n",
        "df_train.groupby('churn')[features].mean(numeric_only=True)"
      ],
      "id": "3ff8d7dd16e07897",
      "outputs": [
        {
          "data": {
            "text/plain": [
              "       credit_score        age    tenure       balance  products_number  \\\n",
              "churn                                                                     \n",
              "0        652.159578  37.523778  5.016075  72586.958505         1.546383   \n",
              "1        644.051702  44.671466  5.049084  90950.368305         1.477094   \n",
              "\n",
              "       credit_card  active_member  estimated_salary  \n",
              "churn                                                \n",
              "0         0.710147       0.555090      98868.429612  \n",
              "1         0.695681       0.366492     102167.067310  "
            ],
            "text/html": [
              "<div>\n",
              "<style scoped>\n",
              "    .dataframe tbody tr th:only-of-type {\n",
              "        vertical-align: middle;\n",
              "    }\n",
              "\n",
              "    .dataframe tbody tr th {\n",
              "        vertical-align: top;\n",
              "    }\n",
              "\n",
              "    .dataframe thead th {\n",
              "        text-align: right;\n",
              "    }\n",
              "</style>\n",
              "<table border=\"1\" class=\"dataframe\">\n",
              "  <thead>\n",
              "    <tr style=\"text-align: right;\">\n",
              "      <th></th>\n",
              "      <th>credit_score</th>\n",
              "      <th>age</th>\n",
              "      <th>tenure</th>\n",
              "      <th>balance</th>\n",
              "      <th>products_number</th>\n",
              "      <th>credit_card</th>\n",
              "      <th>active_member</th>\n",
              "      <th>estimated_salary</th>\n",
              "    </tr>\n",
              "    <tr>\n",
              "      <th>churn</th>\n",
              "      <th></th>\n",
              "      <th></th>\n",
              "      <th></th>\n",
              "      <th></th>\n",
              "      <th></th>\n",
              "      <th></th>\n",
              "      <th></th>\n",
              "      <th></th>\n",
              "    </tr>\n",
              "  </thead>\n",
              "  <tbody>\n",
              "    <tr>\n",
              "      <th>0</th>\n",
              "      <td>652.159578</td>\n",
              "      <td>37.523778</td>\n",
              "      <td>5.016075</td>\n",
              "      <td>72586.958505</td>\n",
              "      <td>1.546383</td>\n",
              "      <td>0.710147</td>\n",
              "      <td>0.555090</td>\n",
              "      <td>98868.429612</td>\n",
              "    </tr>\n",
              "    <tr>\n",
              "      <th>1</th>\n",
              "      <td>644.051702</td>\n",
              "      <td>44.671466</td>\n",
              "      <td>5.049084</td>\n",
              "      <td>90950.368305</td>\n",
              "      <td>1.477094</td>\n",
              "      <td>0.695681</td>\n",
              "      <td>0.366492</td>\n",
              "      <td>102167.067310</td>\n",
              "    </tr>\n",
              "  </tbody>\n",
              "</table>\n",
              "</div>"
            ]
          },
          "execution_count": 10,
          "metadata": {},
          "output_type": "execute_result"
        }
      ],
      "execution_count": null
    },
    {
      "metadata": {
        "id": "4b5297e2b302fa19"
      },
      "cell_type": "markdown",
      "source": [
        "Посмотрим на распределение оттока:"
      ],
      "id": "4b5297e2b302fa19"
    },
    {
      "metadata": {
        "ExecuteTime": {
          "end_time": "2024-05-08T19:35:42.297570Z",
          "start_time": "2024-05-08T19:35:42.285233Z"
        },
        "id": "414fd54f2a73c417"
      },
      "cell_type": "code",
      "source": [
        "# # Гистограмма\n",
        "# plt.histplot(data=df_train, x=\"churn\", ax=axs[0], hue=\"churn\", discrete=True, shrink=0.8, alpha=1.0)\n",
        "# axs[0].set_xlabel(\"Churn\")\n",
        "# axs[0].set_ylabel(\"Frequency\")\n",
        "# axs[0].set_title(\"Churn Distribution\")\n"
      ],
      "id": "414fd54f2a73c417",
      "outputs": [],
      "execution_count": null
    },
    {
      "metadata": {
        "ExecuteTime": {
          "end_time": "2024-05-08T19:47:16.767954Z",
          "start_time": "2024-05-08T19:35:46.430257Z"
        },
        "id": "267716999cddcecc",
        "outputId": "91add3aa-74ef-4d2a-999e-861676091883"
      },
      "cell_type": "code",
      "source": [
        "fig, axs = plt.subplots(1, 2, figsize=(7, 5))\n",
        "\n",
        "# Гистограмма\n",
        "sns.histplot(data=df_train, x=\"balance\", ax=axs[0], hue=\"churn\", discrete=True, shrink=0.8, alpha=1.0)\n",
        "axs[0].set_xlabel(\"Churn\")\n",
        "axs[0].set_ylabel(\"Frequency\")\n",
        "axs[0].set_title(\"Churn Distribution\")\n",
        "\n",
        "# График ящика с усами (boxenplot)\n",
        "sns.boxplot(x=\"churn\", y=\"balance\", data=df_train, hue=\"churn\", ax=axs[1], linewidth=0.5)\n",
        "axs[1].set_xlabel(\"Churn\")\n",
        "axs[1].set_ylabel(\"Balance\")\n",
        "axs[1].set_title(\"Distribution of Balance by Churn\")\n",
        "\n",
        "# Добавление общего заголовка для всего изображения\n",
        "plt.suptitle(\"Balance and Churn Analysis\", fontsize=14, weight='bold')\n",
        "plt.tight_layout()\n",
        "plt.show()"
      ],
      "id": "267716999cddcecc",
      "outputs": [
        {
          "data": {
            "text/plain": [
              "<Figure size 700x500 with 2 Axes>"
            ],
            "image/png": "[encoded data removed]"
          },
          "metadata": {},
          "output_type": "display_data"
        }
      ],
      "execution_count": null
    },
    {
      "metadata": {
        "id": "66c209baa0b92678"
      },
      "cell_type": "code",
      "outputs": [],
      "execution_count": null,
      "source": [],
      "id": "66c209baa0b92678"
    },
    {
      "metadata": {
        "id": "be698ce54ce1f62e"
      },
      "cell_type": "markdown",
      "source": [
        "Обратим внимание, что целевая переменная несбалансирована по классам: количество экземпляров класса с меткой 1 в четыре раза меньше,\n",
        "чем с меткой 0. Кроме того, ширина боксплота для распределения класса 0 значительно превышает ширину боксплота для класса 1, что\n",
        "указывает на большую вариативность значений в этом классе."
      ],
      "id": "be698ce54ce1f62e"
    },
    {
      "metadata": {
        "ExecuteTime": {
          "end_time": "2024-05-08T19:07:20.864548Z",
          "start_time": "2024-05-08T19:07:20.725909Z"
        },
        "id": "79f38ba9162686de",
        "outputId": "2b133603-ce0d-4017-f7d4-3a1a6cd63237"
      },
      "cell_type": "code",
      "source": [
        "df.groupby(['country', 'churn']).churn.count().unstack().plot(kind='bar')\n",
        "\n",
        "# Добавление подписей осей\n",
        "plt.xlabel(\"Country\")\n",
        "plt.ylabel(\"Count\")\n",
        "plt.title(\"Churn Count by Country\");"
      ],
      "id": "79f38ba9162686de",
      "outputs": [
        {
          "data": {
            "text/plain": [
              "<Figure size 640x480 with 1 Axes>"
            ],
            "image/png": "[encoded data removed]"
          },
          "metadata": {},
          "output_type": "display_data"
        }
      ],
      "execution_count": null
    },
    {
      "metadata": {
        "ExecuteTime": {
          "end_time": "2024-05-08T19:31:15.990141Z",
          "start_time": "2024-05-08T19:31:15.617468Z"
        },
        "id": "ab513ba7b33d05e4",
        "outputId": "c2f14103-3d6c-41a4-c76c-39bfa3a7040e"
      },
      "cell_type": "code",
      "source": [
        "ax = sns.heatmap(df.corr(), cmap='coolwarm', annot=True, fmt=\"0.2f\")\n",
        "ax.set_title(\"Correlation heatmap\", fontsize=14, weight='bold')\n",
        "plt.show()"
      ],
      "id": "ab513ba7b33d05e4",
      "outputs": [
        {
          "data": {
            "text/plain": [
              "<Figure size 640x480 with 2 Axes>"
            ],
            "image/png": "[encoded data removed]"
          },
          "metadata": {},
          "output_type": "display_data"
        }
      ],
      "execution_count": null
    },
    {
      "metadata": {
        "ExecuteTime": {
          "end_time": "2024-05-08T19:30:49.573227Z",
          "start_time": "2024-05-08T19:30:49.565860Z"
        },
        "id": "58a0f40725f8114f"
      },
      "cell_type": "code",
      "source": [
        "# sns.pairplot(df);"
      ],
      "id": "58a0f40725f8114f",
      "outputs": [],
      "execution_count": null
    },
    {
      "metadata": {
        "ExecuteTime": {
          "end_time": "2024-05-08T19:30:56.552741Z",
          "start_time": "2024-05-08T19:30:56.396725Z"
        },
        "id": "61dbd199b8cdaa39",
        "outputId": "2173de2b-2b3a-4bc3-c8ab-28d4138ec2c0"
      },
      "cell_type": "code",
      "source": [
        "sns.violinplot(x=\"churn\", y=\"credit_score\", data=df, palette=\"coolwarm\")\n",
        "plt.show()"
      ],
      "id": "61dbd199b8cdaa39",
      "outputs": [
        {
          "data": {
            "text/plain": [
              "<Figure size 640x480 with 1 Axes>"
            ],
            "image/png": "[encoded data removed]"
          },
          "metadata": {},
          "output_type": "display_data"
        }
      ],
      "execution_count": null
    },
    {
      "metadata": {
        "id": "6699495590e150c9"
      },
      "cell_type": "markdown",
      "source": [
        "# Закодируем категориальные переменные"
      ],
      "id": "6699495590e150c9"
    },
    {
      "metadata": {
        "ExecuteTime": {
          "end_time": "2024-05-08T16:15:19.996209Z",
          "start_time": "2024-05-08T16:15:19.154139Z"
        },
        "id": "6a2fefb94dc9e665"
      },
      "cell_type": "code",
      "source": [
        "from sklearn.feature_extraction.text import CountVectorizer, TfidfVectorizer\n",
        "from sklearn.naive_bayes import MultinomialNB\n",
        "from sklearn.pipeline import Pipeline\n",
        "from sklearn.metrics import f1_score, roc_auc_score, roc_curve, classification_report, auc, precision_score\n",
        "from sklearn.model_selection import train_test_split\n",
        "\n",
        "from sklearn.linear_model import LogisticRegression\n",
        "from sklearn.svm import SVC\n",
        "from sklearn.naive_bayes import MultinomialNB\n",
        "from sklearn.tree import DecisionTreeClassifier\n",
        "from sklearn.neighbors import KNeighborsClassifier\n",
        "from sklearn.ensemble import RandomForestClassifier\n",
        "from sklearn.ensemble import AdaBoostClassifier\n",
        "from sklearn.ensemble import BaggingClassifier\n",
        "from sklearn.ensemble import ExtraTreesClassifier\n",
        "from sklearn.ensemble import GradientBoostingClassifier\n",
        "from xgboost import XGBClassifier\n",
        "from sklearn.preprocessing import StandardScaler\n"
      ],
      "id": "6a2fefb94dc9e665",
      "outputs": [],
      "execution_count": null
    },
    {
      "metadata": {
        "ExecuteTime": {
          "end_time": "2024-05-08T16:15:20.027566Z",
          "start_time": "2024-05-08T16:15:19.999211Z"
        },
        "id": "23e2c5b1cc31c62c",
        "outputId": "f413a069-9bf1-4299-942e-4860afcdf3bc"
      },
      "cell_type": "code",
      "source": [
        "# Делим датасет на тренировочную и тестовую выборки\n",
        "X = df.drop(columns='churn')\n",
        "y = df['churn']\n",
        "\n",
        "X_train, X_test, y_train, y_test = train_test_split(X, y, test_size=0.25, stratify=y, random_state =42)\n",
        "len(X_train), len(X_test)"
      ],
      "id": "23e2c5b1cc31c62c",
      "outputs": [
        {
          "data": {
            "text/plain": [
              "(7500, 2500)"
            ]
          },
          "execution_count": 12,
          "metadata": {},
          "output_type": "execute_result"
        }
      ],
      "execution_count": null
    },
    {
      "metadata": {
        "ExecuteTime": {
          "end_time": "2024-05-08T16:15:20.043181Z",
          "start_time": "2024-05-08T16:15:20.029677Z"
        },
        "id": "5e74076986e95c22",
        "outputId": "2cc5c42e-49a7-4a3f-d749-90881785c341"
      },
      "cell_type": "code",
      "source": [
        "print(X_test[['credit_card']].value_counts(), end='\\n\\n')\n",
        "print(X_test[['active_member']].value_counts())"
      ],
      "id": "5e74076986e95c22",
      "outputs": [
        {
          "name": "stdout",
          "output_type": "stream",
          "text": [
            "credit_card\n",
            "1              1751\n",
            "0               749\n",
            "dtype: int64\n",
            "\n",
            "active_member\n",
            "1                1276\n",
            "0                1224\n",
            "dtype: int64\n"
          ]
        }
      ],
      "execution_count": null
    },
    {
      "metadata": {
        "ExecuteTime": {
          "end_time": "2024-05-08T16:15:20.074370Z",
          "start_time": "2024-05-08T16:15:20.045364Z"
        },
        "id": "ceb0cc4f9b7153c7"
      },
      "cell_type": "code",
      "source": [
        "columns_no_normalize = ['credit_card', 'active_member', 'country', 'gender']\n",
        "features_to_normalize = [col for col in X_train.columns if col not in columns_no_normalize]\n",
        "\n",
        "# Создание экземпляра StandardScaler\n",
        "scaler = StandardScaler()\n",
        "\n",
        "# Нормализация обучающего набора\n",
        "X_train[features_to_normalize] = scaler.fit_transform(X_train[features_to_normalize])\n",
        "\n",
        "# Применение того же масштабирования к тестовому набору\n",
        "X_test[features_to_normalize] = scaler.transform(X_test[features_to_normalize])"
      ],
      "id": "ceb0cc4f9b7153c7",
      "outputs": [],
      "execution_count": null
    },
    {
      "metadata": {
        "ExecuteTime": {
          "end_time": "2024-05-08T16:15:20.105234Z",
          "start_time": "2024-05-08T16:15:20.077370Z"
        },
        "id": "44df70f6b2183503"
      },
      "cell_type": "code",
      "source": [
        "X_train = pd.get_dummies(X_train, drop_first=True, columns=categorical_columns, dtype=int)\n",
        "X_test = pd.get_dummies(X_test, drop_first=True, columns=categorical_columns, dtype=int)"
      ],
      "id": "44df70f6b2183503",
      "outputs": [],
      "execution_count": null
    },
    {
      "metadata": {
        "ExecuteTime": {
          "end_time": "2024-05-08T16:15:20.136845Z",
          "start_time": "2024-05-08T16:15:20.110256Z"
        },
        "id": "25029068166137d4",
        "outputId": "a442891a-daba-4805-c9c1-01b4afdcd0b5"
      },
      "cell_type": "code",
      "source": [
        "X_train"
      ],
      "id": "25029068166137d4",
      "outputs": [
        {
          "data": {
            "text/plain": [
              "      credit_score       age    tenure   balance  products_number  \\\n",
              "5866      0.874378  1.328762  1.028955  0.761715         0.803861   \n",
              "1938     -1.371272 -0.092881 -0.699103  0.234517        -0.914771   \n",
              "4194     -0.812446  1.423538  1.374567  0.337508        -0.914771   \n",
              "6332     -0.326061 -0.377209 -0.353492  0.225786        -0.914771   \n",
              "1        -0.439896  0.191448 -1.390327  0.119901        -0.914771   \n",
              "...            ...       ...       ...       ...              ...   \n",
              "3254     -1.019419  1.044433 -0.353492  0.718917        -0.914771   \n",
              "4644      0.636360  3.319061 -0.007880 -1.223565         0.803861   \n",
              "8942      0.170672 -0.187657  1.374567 -0.072798         0.803861   \n",
              "2935      0.377644 -0.377209  1.028955  0.395311         0.803861   \n",
              "6206      1.567735  1.139209  0.683344 -1.223565        -0.914771   \n",
              "\n",
              "      credit_card  active_member  estimated_salary  country_Germany  \\\n",
              "5866            0              1          1.237787                0   \n",
              "1938            0              1          1.095526                0   \n",
              "4194            1              1          1.679687                1   \n",
              "6332            1              1         -1.378660                0   \n",
              "1               0              1          0.226947                0   \n",
              "...           ...            ...               ...              ...   \n",
              "3254            1              0          0.313566                1   \n",
              "4644            0              0          0.905641                0   \n",
              "8942            1              1         -0.555157                0   \n",
              "2935            1              0         -1.349126                0   \n",
              "6206            0              1         -1.024321                0   \n",
              "\n",
              "      country_Spain  gender_Male  \n",
              "5866              0            0  \n",
              "1938              0            1  \n",
              "4194              0            0  \n",
              "6332              0            0  \n",
              "1                 1            0  \n",
              "...             ...          ...  \n",
              "3254              0            1  \n",
              "4644              1            1  \n",
              "8942              0            0  \n",
              "2935              1            1  \n",
              "6206              1            1  \n",
              "\n",
              "[7500 rows x 11 columns]"
            ],
            "text/html": [
              "<div>\n",
              "<style scoped>\n",
              "    .dataframe tbody tr th:only-of-type {\n",
              "        vertical-align: middle;\n",
              "    }\n",
              "\n",
              "    .dataframe tbody tr th {\n",
              "        vertical-align: top;\n",
              "    }\n",
              "\n",
              "    .dataframe thead th {\n",
              "        text-align: right;\n",
              "    }\n",
              "</style>\n",
              "<table border=\"1\" class=\"dataframe\">\n",
              "  <thead>\n",
              "    <tr style=\"text-align: right;\">\n",
              "      <th></th>\n",
              "      <th>credit_score</th>\n",
              "      <th>age</th>\n",
              "      <th>tenure</th>\n",
              "      <th>balance</th>\n",
              "      <th>products_number</th>\n",
              "      <th>credit_card</th>\n",
              "      <th>active_member</th>\n",
              "      <th>estimated_salary</th>\n",
              "      <th>country_Germany</th>\n",
              "      <th>country_Spain</th>\n",
              "      <th>gender_Male</th>\n",
              "    </tr>\n",
              "  </thead>\n",
              "  <tbody>\n",
              "    <tr>\n",
              "      <th>5866</th>\n",
              "      <td>0.874378</td>\n",
              "      <td>1.328762</td>\n",
              "      <td>1.028955</td>\n",
              "      <td>0.761715</td>\n",
              "      <td>0.803861</td>\n",
              "      <td>0</td>\n",
              "      <td>1</td>\n",
              "      <td>1.237787</td>\n",
              "      <td>0</td>\n",
              "      <td>0</td>\n",
              "      <td>0</td>\n",
              "    </tr>\n",
              "    <tr>\n",
              "      <th>1938</th>\n",
              "      <td>-1.371272</td>\n",
              "      <td>-0.092881</td>\n",
              "      <td>-0.699103</td>\n",
              "      <td>0.234517</td>\n",
              "      <td>-0.914771</td>\n",
              "      <td>0</td>\n",
              "      <td>1</td>\n",
              "      <td>1.095526</td>\n",
              "      <td>0</td>\n",
              "      <td>0</td>\n",
              "      <td>1</td>\n",
              "    </tr>\n",
              "    <tr>\n",
              "      <th>4194</th>\n",
              "      <td>-0.812446</td>\n",
              "      <td>1.423538</td>\n",
              "      <td>1.374567</td>\n",
              "      <td>0.337508</td>\n",
              "      <td>-0.914771</td>\n",
              "      <td>1</td>\n",
              "      <td>1</td>\n",
              "      <td>1.679687</td>\n",
              "      <td>1</td>\n",
              "      <td>0</td>\n",
              "      <td>0</td>\n",
              "    </tr>\n",
              "    <tr>\n",
              "      <th>6332</th>\n",
              "      <td>-0.326061</td>\n",
              "      <td>-0.377209</td>\n",
              "      <td>-0.353492</td>\n",
              "      <td>0.225786</td>\n",
              "      <td>-0.914771</td>\n",
              "      <td>1</td>\n",
              "      <td>1</td>\n",
              "      <td>-1.378660</td>\n",
              "      <td>0</td>\n",
              "      <td>0</td>\n",
              "      <td>0</td>\n",
              "    </tr>\n",
              "    <tr>\n",
              "      <th>1</th>\n",
              "      <td>-0.439896</td>\n",
              "      <td>0.191448</td>\n",
              "      <td>-1.390327</td>\n",
              "      <td>0.119901</td>\n",
              "      <td>-0.914771</td>\n",
              "      <td>0</td>\n",
              "      <td>1</td>\n",
              "      <td>0.226947</td>\n",
              "      <td>0</td>\n",
              "      <td>1</td>\n",
              "      <td>0</td>\n",
              "    </tr>\n",
              "    <tr>\n",
              "      <th>...</th>\n",
              "      <td>...</td>\n",
              "      <td>...</td>\n",
              "      <td>...</td>\n",
              "      <td>...</td>\n",
              "      <td>...</td>\n",
              "      <td>...</td>\n",
              "      <td>...</td>\n",
              "      <td>...</td>\n",
              "      <td>...</td>\n",
              "      <td>...</td>\n",
              "      <td>...</td>\n",
              "    </tr>\n",
              "    <tr>\n",
              "      <th>3254</th>\n",
              "      <td>-1.019419</td>\n",
              "      <td>1.044433</td>\n",
              "      <td>-0.353492</td>\n",
              "      <td>0.718917</td>\n",
              "      <td>-0.914771</td>\n",
              "      <td>1</td>\n",
              "      <td>0</td>\n",
              "      <td>0.313566</td>\n",
              "      <td>1</td>\n",
              "      <td>0</td>\n",
              "      <td>1</td>\n",
              "    </tr>\n",
              "    <tr>\n",
              "      <th>4644</th>\n",
              "      <td>0.636360</td>\n",
              "      <td>3.319061</td>\n",
              "      <td>-0.007880</td>\n",
              "      <td>-1.223565</td>\n",
              "      <td>0.803861</td>\n",
              "      <td>0</td>\n",
              "      <td>0</td>\n",
              "      <td>0.905641</td>\n",
              "      <td>0</td>\n",
              "      <td>1</td>\n",
              "      <td>1</td>\n",
              "    </tr>\n",
              "    <tr>\n",
              "      <th>8942</th>\n",
              "      <td>0.170672</td>\n",
              "      <td>-0.187657</td>\n",
              "      <td>1.374567</td>\n",
              "      <td>-0.072798</td>\n",
              "      <td>0.803861</td>\n",
              "      <td>1</td>\n",
              "      <td>1</td>\n",
              "      <td>-0.555157</td>\n",
              "      <td>0</td>\n",
              "      <td>0</td>\n",
              "      <td>0</td>\n",
              "    </tr>\n",
              "    <tr>\n",
              "      <th>2935</th>\n",
              "      <td>0.377644</td>\n",
              "      <td>-0.377209</td>\n",
              "      <td>1.028955</td>\n",
              "      <td>0.395311</td>\n",
              "      <td>0.803861</td>\n",
              "      <td>1</td>\n",
              "      <td>0</td>\n",
              "      <td>-1.349126</td>\n",
              "      <td>0</td>\n",
              "      <td>1</td>\n",
              "      <td>1</td>\n",
              "    </tr>\n",
              "    <tr>\n",
              "      <th>6206</th>\n",
              "      <td>1.567735</td>\n",
              "      <td>1.139209</td>\n",
              "      <td>0.683344</td>\n",
              "      <td>-1.223565</td>\n",
              "      <td>-0.914771</td>\n",
              "      <td>0</td>\n",
              "      <td>1</td>\n",
              "      <td>-1.024321</td>\n",
              "      <td>0</td>\n",
              "      <td>1</td>\n",
              "      <td>1</td>\n",
              "    </tr>\n",
              "  </tbody>\n",
              "</table>\n",
              "<p>7500 rows × 11 columns</p>\n",
              "</div>"
            ]
          },
          "execution_count": 16,
          "metadata": {},
          "output_type": "execute_result"
        }
      ],
      "execution_count": null
    }
  ],
  "metadata": {
    "kernelspec": {
      "display_name": "Python 3",
      "language": "python",
      "name": "python3"
    },
    "language_info": {
      "codemirror_mode": {
        "name": "ipython",
        "version": 2
      },
      "file_extension": ".py",
      "mimetype": "text/x-python",
      "name": "python",
      "nbconvert_exporter": "python",
      "pygments_lexer": "ipython2",
      "version": "2.7.6"
    },
    "colab": {
      "provenance": []
    }
  },
  "nbformat": 4,
  "nbformat_minor": 5
}