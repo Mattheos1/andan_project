{
  "cells": [
    {
      "metadata": {
        "ExecuteTime": {
          "end_time": "2024-05-12T09:03:49.577555Z",
          "start_time": "2024-05-12T09:03:49.422409Z"
        },
        "id": "fbc121e30a2defb3"
      },
      "cell_type": "code",
      "source": [
        "import pandas as pd\n",
        "import numpy as np\n",
        "import matplotlib.pyplot as plt\n",
        "import seaborn as sns\n",
        "import scipy.stats as sts\n",
        "from sklearn.model_selection import train_test_split\n",
        "import warnings\n",
        "warnings.filterwarnings(\"ignore\")\n",
        "plt.style.use(\"seaborn-bright\")\n",
        "%matplotlib inline"
      ],
      "outputs": [],
      "execution_count": null,
      "id": "fbc121e30a2defb3"
    },
    {
      "metadata": {
        "id": "e5a0384f54a7bda"
      },
      "cell_type": "markdown",
      "source": [
        "# Данные\n",
        "\n",
        "Описание колонок датасета:\n",
        "\n",
        "*   **customer_id** — Клиентский идентификатор.\n",
        "*   **credit_score** — Кредитный рейтинг.\n",
        "*   **country** — Страна.\n",
        "*   **gender** — Пол.\n",
        "*   **age** — Возраст.\n",
        "*   **tenure** — Стаж.\n",
        "*   **balance** — Баланс.\n",
        "*   **products_number** — Количество продуктов.\n",
        "*   **credit_card** — Кредитная карта.\n",
        "*   **active_member** — Активный член.\n",
        "*   **estimated_salary** — Предполагаемая зарплата.\n",
        "*   **churn** — Отток, используется как целевая переменная. 1, если клиент покинул банк за определенный период, или 0, если нет.\n",
        "\n"
      ],
      "id": "e5a0384f54a7bda"
    },
    {
      "metadata": {
        "id": "efeb4d72066ae74"
      },
      "cell_type": "markdown",
      "source": [
        "# 1. Предобработка данных"
      ],
      "id": "efeb4d72066ae74"
    },
    {
      "metadata": {
        "ExecuteTime": {
          "end_time": "2024-05-12T09:03:49.610036Z",
          "start_time": "2024-05-12T09:03:49.579270Z"
        },
        "colab": {
          "base_uri": "https://localhost:8080/",
          "height": 206
        },
        "id": "f6b3309c34267a83",
        "outputId": "69bf0f41-771f-4a1c-b064-00fcc6fc409c"
      },
      "cell_type": "code",
      "source": [
        "# Загрузим данные\n",
        "df = pd.read_csv('data/Bank_Customer_Churn_Prediction.csv')\n",
        "df.head()"
      ],
      "outputs": [
        {
          "output_type": "execute_result",
          "data": {
            "text/plain": [
              "   customer_id  credit_score country  gender  age  tenure    balance  \\\n",
              "0     15634602           619  France  Female   42       2       0.00   \n",
              "1     15647311           608   Spain  Female   41       1   83807.86   \n",
              "2     15619304           502  France  Female   42       8  159660.80   \n",
              "3     15701354           699  France  Female   39       1       0.00   \n",
              "4     15737888           850   Spain  Female   43       2  125510.82   \n",
              "\n",
              "   products_number  credit_card  active_member  estimated_salary  churn  \n",
              "0                1            1              1         101348.88      1  \n",
              "1                1            0              1         112542.58      0  \n",
              "2                3            1              0         113931.57      1  \n",
              "3                2            0              0          93826.63      0  \n",
              "4                1            1              1          79084.10      0  "
            ],
            "text/html": [
              "\n",
              "  <div id=\"df-47c5594b-5d62-424b-82fa-3f7bea817d6b\" class=\"colab-df-container\">\n",
              "    <div>\n",
              "<style scoped>\n",
              "    .dataframe tbody tr th:only-of-type {\n",
              "        vertical-align: middle;\n",
              "    }\n",
              "\n",
              "    .dataframe tbody tr th {\n",
              "        vertical-align: top;\n",
              "    }\n",
              "\n",
              "    .dataframe thead th {\n",
              "        text-align: right;\n",
              "    }\n",
              "</style>\n",
              "<table border=\"1\" class=\"dataframe\">\n",
              "  <thead>\n",
              "    <tr style=\"text-align: right;\">\n",
              "      <th></th>\n",
              "      <th>customer_id</th>\n",
              "      <th>credit_score</th>\n",
              "      <th>country</th>\n",
              "      <th>gender</th>\n",
              "      <th>age</th>\n",
              "      <th>tenure</th>\n",
              "      <th>balance</th>\n",
              "      <th>products_number</th>\n",
              "      <th>credit_card</th>\n",
              "      <th>active_member</th>\n",
              "      <th>estimated_salary</th>\n",
              "      <th>churn</th>\n",
              "    </tr>\n",
              "  </thead>\n",
              "  <tbody>\n",
              "    <tr>\n",
              "      <th>0</th>\n",
              "      <td>15634602</td>\n",
              "      <td>619</td>\n",
              "      <td>France</td>\n",
              "      <td>Female</td>\n",
              "      <td>42</td>\n",
              "      <td>2</td>\n",
              "      <td>0.00</td>\n",
              "      <td>1</td>\n",
              "      <td>1</td>\n",
              "      <td>1</td>\n",
              "      <td>101348.88</td>\n",
              "      <td>1</td>\n",
              "    </tr>\n",
              "    <tr>\n",
              "      <th>1</th>\n",
              "      <td>15647311</td>\n",
              "      <td>608</td>\n",
              "      <td>Spain</td>\n",
              "      <td>Female</td>\n",
              "      <td>41</td>\n",
              "      <td>1</td>\n",
              "      <td>83807.86</td>\n",
              "      <td>1</td>\n",
              "      <td>0</td>\n",
              "      <td>1</td>\n",
              "      <td>112542.58</td>\n",
              "      <td>0</td>\n",
              "    </tr>\n",
              "    <tr>\n",
              "      <th>2</th>\n",
              "      <td>15619304</td>\n",
              "      <td>502</td>\n",
              "      <td>France</td>\n",
              "      <td>Female</td>\n",
              "      <td>42</td>\n",
              "      <td>8</td>\n",
              "      <td>159660.80</td>\n",
              "      <td>3</td>\n",
              "      <td>1</td>\n",
              "      <td>0</td>\n",
              "      <td>113931.57</td>\n",
              "      <td>1</td>\n",
              "    </tr>\n",
              "    <tr>\n",
              "      <th>3</th>\n",
              "      <td>15701354</td>\n",
              "      <td>699</td>\n",
              "      <td>France</td>\n",
              "      <td>Female</td>\n",
              "      <td>39</td>\n",
              "      <td>1</td>\n",
              "      <td>0.00</td>\n",
              "      <td>2</td>\n",
              "      <td>0</td>\n",
              "      <td>0</td>\n",
              "      <td>93826.63</td>\n",
              "      <td>0</td>\n",
              "    </tr>\n",
              "    <tr>\n",
              "      <th>4</th>\n",
              "      <td>15737888</td>\n",
              "      <td>850</td>\n",
              "      <td>Spain</td>\n",
              "      <td>Female</td>\n",
              "      <td>43</td>\n",
              "      <td>2</td>\n",
              "      <td>125510.82</td>\n",
              "      <td>1</td>\n",
              "      <td>1</td>\n",
              "      <td>1</td>\n",
              "      <td>79084.10</td>\n",
              "      <td>0</td>\n",
              "    </tr>\n",
              "  </tbody>\n",
              "</table>\n",
              "</div>\n",
              "    <div class=\"colab-df-buttons\">\n",
              "\n",
              "  <div class=\"colab-df-container\">\n",
              "    <button class=\"colab-df-convert\" onclick=\"convertToInteractive('df-47c5594b-5d62-424b-82fa-3f7bea817d6b')\"\n",
              "            title=\"Convert this dataframe to an interactive table.\"\n",
              "            style=\"display:none;\">\n",
              "\n",
              "  <svg xmlns=\"http://www.w3.org/2000/svg\" height=\"24px\" viewBox=\"0 -960 960 960\">\n",
              "    <path d=\"M120-120v-720h720v720H120Zm60-500h600v-160H180v160Zm220 220h160v-160H400v160Zm0 220h160v-160H400v160ZM180-400h160v-160H180v160Zm440 0h160v-160H620v160ZM180-180h160v-160H180v160Zm440 0h160v-160H620v160Z\"/>\n",
              "  </svg>\n",
              "    </button>\n",
              "\n",
              "  <style>\n",
              "    .colab-df-container {\n",
              "      display:flex;\n",
              "      gap: 12px;\n",
              "    }\n",
              "\n",
              "    .colab-df-convert {\n",
              "      background-color: #E8F0FE;\n",
              "      border: none;\n",
              "      border-radius: 50%;\n",
              "      cursor: pointer;\n",
              "      display: none;\n",
              "      fill: #1967D2;\n",
              "      height: 32px;\n",
              "      padding: 0 0 0 0;\n",
              "      width: 32px;\n",
              "    }\n",
              "\n",
              "    .colab-df-convert:hover {\n",
              "      background-color: #E2EBFA;\n",
              "      box-shadow: 0px 1px 2px rgba(60, 64, 67, 0.3), 0px 1px 3px 1px rgba(60, 64, 67, 0.15);\n",
              "      fill: #174EA6;\n",
              "    }\n",
              "\n",
              "    .colab-df-buttons div {\n",
              "      margin-bottom: 4px;\n",
              "    }\n",
              "\n",
              "    [theme=dark] .colab-df-convert {\n",
              "      background-color: #3B4455;\n",
              "      fill: #D2E3FC;\n",
              "    }\n",
              "\n",
              "    [theme=dark] .colab-df-convert:hover {\n",
              "      background-color: #434B5C;\n",
              "      box-shadow: 0px 1px 3px 1px rgba(0, 0, 0, 0.15);\n",
              "      filter: drop-shadow(0px 1px 2px rgba(0, 0, 0, 0.3));\n",
              "      fill: #FFFFFF;\n",
              "    }\n",
              "  </style>\n",
              "\n",
              "    <script>\n",
              "      const buttonEl =\n",
              "        document.querySelector('#df-47c5594b-5d62-424b-82fa-3f7bea817d6b button.colab-df-convert');\n",
              "      buttonEl.style.display =\n",
              "        google.colab.kernel.accessAllowed ? 'block' : 'none';\n",
              "\n",
              "      async function convertToInteractive(key) {\n",
              "        const element = document.querySelector('#df-47c5594b-5d62-424b-82fa-3f7bea817d6b');\n",
              "        const dataTable =\n",
              "          await google.colab.kernel.invokeFunction('convertToInteractive',\n",
              "                                                    [key], {});\n",
              "        if (!dataTable) return;\n",
              "\n",
              "        const docLinkHtml = 'Like what you see? Visit the ' +\n",
              "          '<a target=\"_blank\" href=https://colab.research.google.com/notebooks/data_table.ipynb>data table notebook</a>'\n",
              "          + ' to learn more about interactive tables.';\n",
              "        element.innerHTML = '';\n",
              "        dataTable['output_type'] = 'display_data';\n",
              "        await google.colab.output.renderOutput(dataTable, element);\n",
              "        const docLink = document.createElement('div');\n",
              "        docLink.innerHTML = docLinkHtml;\n",
              "        element.appendChild(docLink);\n",
              "      }\n",
              "    </script>\n",
              "  </div>\n",
              "\n",
              "\n",
              "<div id=\"df-f225998c-584e-4e9a-81fe-86823826907b\">\n",
              "  <button class=\"colab-df-quickchart\" onclick=\"quickchart('df-f225998c-584e-4e9a-81fe-86823826907b')\"\n",
              "            title=\"Suggest charts\"\n",
              "            style=\"display:none;\">\n",
              "\n",
              "<svg xmlns=\"http://www.w3.org/2000/svg\" height=\"24px\"viewBox=\"0 0 24 24\"\n",
              "     width=\"24px\">\n",
              "    <g>\n",
              "        <path d=\"M19 3H5c-1.1 0-2 .9-2 2v14c0 1.1.9 2 2 2h14c1.1 0 2-.9 2-2V5c0-1.1-.9-2-2-2zM9 17H7v-7h2v7zm4 0h-2V7h2v10zm4 0h-2v-4h2v4z\"/>\n",
              "    </g>\n",
              "</svg>\n",
              "  </button>\n",
              "\n",
              "<style>\n",
              "  .colab-df-quickchart {\n",
              "      --bg-color: #E8F0FE;\n",
              "      --fill-color: #1967D2;\n",
              "      --hover-bg-color: #E2EBFA;\n",
              "      --hover-fill-color: #174EA6;\n",
              "      --disabled-fill-color: #AAA;\n",
              "      --disabled-bg-color: #DDD;\n",
              "  }\n",
              "\n",
              "  [theme=dark] .colab-df-quickchart {\n",
              "      --bg-color: #3B4455;\n",
              "      --fill-color: #D2E3FC;\n",
              "      --hover-bg-color: #434B5C;\n",
              "      --hover-fill-color: #FFFFFF;\n",
              "      --disabled-bg-color: #3B4455;\n",
              "      --disabled-fill-color: #666;\n",
              "  }\n",
              "\n",
              "  .colab-df-quickchart {\n",
              "    background-color: var(--bg-color);\n",
              "    border: none;\n",
              "    border-radius: 50%;\n",
              "    cursor: pointer;\n",
              "    display: none;\n",
              "    fill: var(--fill-color);\n",
              "    height: 32px;\n",
              "    padding: 0;\n",
              "    width: 32px;\n",
              "  }\n",
              "\n",
              "  .colab-df-quickchart:hover {\n",
              "    background-color: var(--hover-bg-color);\n",
              "    box-shadow: 0 1px 2px rgba(60, 64, 67, 0.3), 0 1px 3px 1px rgba(60, 64, 67, 0.15);\n",
              "    fill: var(--button-hover-fill-color);\n",
              "  }\n",
              "\n",
              "  .colab-df-quickchart-complete:disabled,\n",
              "  .colab-df-quickchart-complete:disabled:hover {\n",
              "    background-color: var(--disabled-bg-color);\n",
              "    fill: var(--disabled-fill-color);\n",
              "    box-shadow: none;\n",
              "  }\n",
              "\n",
              "  .colab-df-spinner {\n",
              "    border: 2px solid var(--fill-color);\n",
              "    border-color: transparent;\n",
              "    border-bottom-color: var(--fill-color);\n",
              "    animation:\n",
              "      spin 1s steps(1) infinite;\n",
              "  }\n",
              "\n",
              "  @keyframes spin {\n",
              "    0% {\n",
              "      border-color: transparent;\n",
              "      border-bottom-color: var(--fill-color);\n",
              "      border-left-color: var(--fill-color);\n",
              "    }\n",
              "    20% {\n",
              "      border-color: transparent;\n",
              "      border-left-color: var(--fill-color);\n",
              "      border-top-color: var(--fill-color);\n",
              "    }\n",
              "    30% {\n",
              "      border-color: transparent;\n",
              "      border-left-color: var(--fill-color);\n",
              "      border-top-color: var(--fill-color);\n",
              "      border-right-color: var(--fill-color);\n",
              "    }\n",
              "    40% {\n",
              "      border-color: transparent;\n",
              "      border-right-color: var(--fill-color);\n",
              "      border-top-color: var(--fill-color);\n",
              "    }\n",
              "    60% {\n",
              "      border-color: transparent;\n",
              "      border-right-color: var(--fill-color);\n",
              "    }\n",
              "    80% {\n",
              "      border-color: transparent;\n",
              "      border-right-color: var(--fill-color);\n",
              "      border-bottom-color: var(--fill-color);\n",
              "    }\n",
              "    90% {\n",
              "      border-color: transparent;\n",
              "      border-bottom-color: var(--fill-color);\n",
              "    }\n",
              "  }\n",
              "</style>\n",
              "\n",
              "  <script>\n",
              "    async function quickchart(key) {\n",
              "      const quickchartButtonEl =\n",
              "        document.querySelector('#' + key + ' button');\n",
              "      quickchartButtonEl.disabled = true;  // To prevent multiple clicks.\n",
              "      quickchartButtonEl.classList.add('colab-df-spinner');\n",
              "      try {\n",
              "        const charts = await google.colab.kernel.invokeFunction(\n",
              "            'suggestCharts', [key], {});\n",
              "      } catch (error) {\n",
              "        console.error('Error during call to suggestCharts:', error);\n",
              "      }\n",
              "      quickchartButtonEl.classList.remove('colab-df-spinner');\n",
              "      quickchartButtonEl.classList.add('colab-df-quickchart-complete');\n",
              "    }\n",
              "    (() => {\n",
              "      let quickchartButtonEl =\n",
              "        document.querySelector('#df-f225998c-584e-4e9a-81fe-86823826907b button');\n",
              "      quickchartButtonEl.style.display =\n",
              "        google.colab.kernel.accessAllowed ? 'block' : 'none';\n",
              "    })();\n",
              "  </script>\n",
              "</div>\n",
              "    </div>\n",
              "  </div>\n"
            ],
            "application/vnd.google.colaboratory.intrinsic+json": {
              "type": "dataframe",
              "variable_name": "df",
              "summary": "{\n  \"name\": \"df\",\n  \"rows\": 10000,\n  \"fields\": [\n    {\n      \"column\": \"customer_id\",\n      \"properties\": {\n        \"dtype\": \"number\",\n        \"std\": 71936,\n        \"min\": 15565701,\n        \"max\": 15815690,\n        \"num_unique_values\": 10000,\n        \"samples\": [\n          15687492,\n          15736963,\n          15721730\n        ],\n        \"semantic_type\": \"\",\n        \"description\": \"\"\n      }\n    },\n    {\n      \"column\": \"credit_score\",\n      \"properties\": {\n        \"dtype\": \"number\",\n        \"std\": 96,\n        \"min\": 350,\n        \"max\": 850,\n        \"num_unique_values\": 460,\n        \"samples\": [\n          754,\n          533,\n          744\n        ],\n        \"semantic_type\": \"\",\n        \"description\": \"\"\n      }\n    },\n    {\n      \"column\": \"country\",\n      \"properties\": {\n        \"dtype\": \"category\",\n        \"num_unique_values\": 3,\n        \"samples\": [\n          \"France\",\n          \"Spain\",\n          \"Germany\"\n        ],\n        \"semantic_type\": \"\",\n        \"description\": \"\"\n      }\n    },\n    {\n      \"column\": \"gender\",\n      \"properties\": {\n        \"dtype\": \"category\",\n        \"num_unique_values\": 2,\n        \"samples\": [\n          \"Male\",\n          \"Female\"\n        ],\n        \"semantic_type\": \"\",\n        \"description\": \"\"\n      }\n    },\n    {\n      \"column\": \"age\",\n      \"properties\": {\n        \"dtype\": \"number\",\n        \"std\": 10,\n        \"min\": 18,\n        \"max\": 92,\n        \"num_unique_values\": 70,\n        \"samples\": [\n          61,\n          42\n        ],\n        \"semantic_type\": \"\",\n        \"description\": \"\"\n      }\n    },\n    {\n      \"column\": \"tenure\",\n      \"properties\": {\n        \"dtype\": \"number\",\n        \"std\": 2,\n        \"min\": 0,\n        \"max\": 10,\n        \"num_unique_values\": 11,\n        \"samples\": [\n          6,\n          2\n        ],\n        \"semantic_type\": \"\",\n        \"description\": \"\"\n      }\n    },\n    {\n      \"column\": \"balance\",\n      \"properties\": {\n        \"dtype\": \"number\",\n        \"std\": 62397.405202385955,\n        \"min\": 0.0,\n        \"max\": 250898.09,\n        \"num_unique_values\": 6382,\n        \"samples\": [\n          117707.18,\n          133050.97\n        ],\n        \"semantic_type\": \"\",\n        \"description\": \"\"\n      }\n    },\n    {\n      \"column\": \"products_number\",\n      \"properties\": {\n        \"dtype\": \"number\",\n        \"std\": 0,\n        \"min\": 1,\n        \"max\": 4,\n        \"num_unique_values\": 4,\n        \"samples\": [\n          3,\n          4\n        ],\n        \"semantic_type\": \"\",\n        \"description\": \"\"\n      }\n    },\n    {\n      \"column\": \"credit_card\",\n      \"properties\": {\n        \"dtype\": \"number\",\n        \"std\": 0,\n        \"min\": 0,\n        \"max\": 1,\n        \"num_unique_values\": 2,\n        \"samples\": [\n          0,\n          1\n        ],\n        \"semantic_type\": \"\",\n        \"description\": \"\"\n      }\n    },\n    {\n      \"column\": \"active_member\",\n      \"properties\": {\n        \"dtype\": \"number\",\n        \"std\": 0,\n        \"min\": 0,\n        \"max\": 1,\n        \"num_unique_values\": 2,\n        \"samples\": [\n          0,\n          1\n        ],\n        \"semantic_type\": \"\",\n        \"description\": \"\"\n      }\n    },\n    {\n      \"column\": \"estimated_salary\",\n      \"properties\": {\n        \"dtype\": \"number\",\n        \"std\": 57510.49281769816,\n        \"min\": 11.58,\n        \"max\": 199992.48,\n        \"num_unique_values\": 9999,\n        \"samples\": [\n          100809.99,\n          95273.73\n        ],\n        \"semantic_type\": \"\",\n        \"description\": \"\"\n      }\n    },\n    {\n      \"column\": \"churn\",\n      \"properties\": {\n        \"dtype\": \"number\",\n        \"std\": 0,\n        \"min\": 0,\n        \"max\": 1,\n        \"num_unique_values\": 2,\n        \"samples\": [\n          0,\n          1\n        ],\n        \"semantic_type\": \"\",\n        \"description\": \"\"\n      }\n    }\n  ]\n}"
            }
          },
          "metadata": {},
          "execution_count": 27
        }
      ],
      "execution_count": null,
      "id": "f6b3309c34267a83"
    },
    {
      "metadata": {
        "ExecuteTime": {
          "end_time": "2024-05-12T09:03:49.641668Z",
          "start_time": "2024-05-12T09:03:49.612387Z"
        },
        "colab": {
          "base_uri": "https://localhost:8080/"
        },
        "id": "178633516a7a58c2",
        "outputId": "1a3ef514-ba5a-4483-e30a-6b1e5f086416"
      },
      "cell_type": "code",
      "source": [
        "# общая информация о датасете\n",
        "df.info()\n"
      ],
      "outputs": [
        {
          "output_type": "stream",
          "name": "stdout",
          "text": [
            "<class 'pandas.core.frame.DataFrame'>\n",
            "RangeIndex: 10000 entries, 0 to 9999\n",
            "Data columns (total 12 columns):\n",
            " #   Column            Non-Null Count  Dtype  \n",
            "---  ------            --------------  -----  \n",
            " 0   customer_id       10000 non-null  int64  \n",
            " 1   credit_score      10000 non-null  int64  \n",
            " 2   country           10000 non-null  object \n",
            " 3   gender            10000 non-null  object \n",
            " 4   age               10000 non-null  int64  \n",
            " 5   tenure            10000 non-null  int64  \n",
            " 6   balance           10000 non-null  float64\n",
            " 7   products_number   10000 non-null  int64  \n",
            " 8   credit_card       10000 non-null  int64  \n",
            " 9   active_member     10000 non-null  int64  \n",
            " 10  estimated_salary  10000 non-null  float64\n",
            " 11  churn             10000 non-null  int64  \n",
            "dtypes: float64(2), int64(8), object(2)\n",
            "memory usage: 937.6+ KB\n"
          ]
        }
      ],
      "execution_count": null,
      "id": "178633516a7a58c2"
    },
    {
      "metadata": {
        "id": "8ddaa9c334c7664c"
      },
      "cell_type": "markdown",
      "source": [
        "\n",
        "В датасете содержатся следующие типы данных:\n",
        "\n",
        "* customer_id: Столбец содержит числовые идентификаторы клиентов банка.\n",
        "* credit_score: Здесь представлены числовые значения кредитного рейтинга клиентов.\n",
        "* country: Столбец указывает на страну клиента и содержит категориальные данные (названия стран).\n",
        "* gender: Столбец содержит информацию о поле клиента, категориальные данные: \"Female\" и \"Male\".\n",
        "* age: Возраст клиентов, представлен числовыми значениями.\n",
        "* tenure: Столбец содержит числовые значения, представляющие стаж клиентов в банке.\n",
        "* balance: Баланс клиентов на их счетах, представлен числовыми значениями.\n",
        "* products_number: Число продуктов, используемых клиентами, представлено числовыми данными.\n",
        "* credit_card: Данный столбец, является бинарным, указывая, имеет ли клиент кредитную карту. Принимает значения 0 (нет) и 1 (да).\n",
        "* active_member: Бинарный столбец, указывающий, является ли клиент активным членом банка. Также принимает значения 0 (неактивный) и 1       (активный).\n",
        "* estimated_salary: Предполагаемая зарплата клиентов, представлен числовыми значениями.\n",
        "* churn: Целевая переменная, указывающая на отток клиента. Она также бинарна, принимая значения 0 (не произошел отток) и 1 (произошел отток).\n",
        "\n",
        "В этом датасете присутствуют числовые, категориальные и бинарные типы данных."
      ],
      "id": "8ddaa9c334c7664c"
    },
    {
      "metadata": {
        "ExecuteTime": {
          "end_time": "2024-05-12T09:03:49.657422Z",
          "start_time": "2024-05-12T09:03:49.642749Z"
        },
        "colab": {
          "base_uri": "https://localhost:8080/"
        },
        "id": "c59ae6298be86330",
        "outputId": "ff519a39-37b4-403c-b859-5ec925858d22"
      },
      "cell_type": "code",
      "source": [
        "df.isnull().sum() # Пропусков нет"
      ],
      "outputs": [
        {
          "output_type": "execute_result",
          "data": {
            "text/plain": [
              "customer_id         0\n",
              "credit_score        0\n",
              "country             0\n",
              "gender              0\n",
              "age                 0\n",
              "tenure              0\n",
              "balance             0\n",
              "products_number     0\n",
              "credit_card         0\n",
              "active_member       0\n",
              "estimated_salary    0\n",
              "churn               0\n",
              "dtype: int64"
            ]
          },
          "metadata": {},
          "execution_count": 29
        }
      ],
      "execution_count": null,
      "id": "c59ae6298be86330"
    },
    {
      "metadata": {
        "ExecuteTime": {
          "end_time": "2024-05-12T09:03:52.568097Z",
          "start_time": "2024-05-12T09:03:52.556090Z"
        },
        "colab": {
          "base_uri": "https://localhost:8080/"
        },
        "id": "52d22edc2449b5f8",
        "outputId": "bf393c22-3669-48e4-e3e9-314feab84c6a"
      },
      "cell_type": "code",
      "source": [
        "# Выделим колонки с категориальными признаками\n",
        "categorical_columns = df.select_dtypes(include=['object']).columns\n",
        "\n",
        "# Посмотрим на зачения категориальных переменных, чтобы убедиться что\n",
        "# нет пропусков (пустых строк, незначимых строк)\n",
        "for i in categorical_columns:\n",
        "  print(i)\n",
        "  print(df[i].value_counts(), end='\\n\\n')"
      ],
      "outputs": [
        {
          "output_type": "stream",
          "name": "stdout",
          "text": [
            "country\n",
            "country\n",
            "France     5014\n",
            "Germany    2509\n",
            "Spain      2477\n",
            "Name: count, dtype: int64\n",
            "\n",
            "gender\n",
            "gender\n",
            "Male      5457\n",
            "Female    4543\n",
            "Name: count, dtype: int64\n",
            "\n"
          ]
        }
      ],
      "execution_count": null,
      "id": "52d22edc2449b5f8"
    },
    {
      "metadata": {
        "ExecuteTime": {
          "end_time": "2024-05-12T09:03:53.798232Z",
          "start_time": "2024-05-12T09:03:53.784743Z"
        },
        "colab": {
          "base_uri": "https://localhost:8080/"
        },
        "id": "f1d9995afec78a26",
        "outputId": "09c421cd-0a51-4a6b-e3bc-0518df927dd7"
      },
      "cell_type": "code",
      "source": [
        "# Удалим колонку уникальных индификаторов customer_id\n",
        "print(\"Количество повротов в колонке customer_id: \", len(df) - df.customer_id.nunique())\n",
        "df.drop(columns='customer_id', inplace=True)"
      ],
      "outputs": [
        {
          "output_type": "stream",
          "name": "stdout",
          "text": [
            "Количество повротов в колонке customer_id:  0\n"
          ]
        }
      ],
      "execution_count": null,
      "id": "f1d9995afec78a26"
    },
    {
      "metadata": {
        "id": "f2cb8d0ddd8f874a"
      },
      "cell_type": "markdown",
      "source": [
        "# EDA"
      ],
      "id": "f2cb8d0ddd8f874a"
    },
    {
      "metadata": {
        "id": "48dc9b2e0aad5bdb"
      },
      "cell_type": "markdown",
      "source": [
        "Разделим датасет на тестовую и тренировочную выборки, чтобы проводить EDA только по тренировочной"
      ],
      "id": "48dc9b2e0aad5bdb"
    },
    {
      "metadata": {
        "ExecuteTime": {
          "end_time": "2024-05-12T09:03:55.577763Z",
          "start_time": "2024-05-12T09:03:55.544328Z"
        },
        "colab": {
          "base_uri": "https://localhost:8080/"
        },
        "id": "f9ba6f82fa428dd9",
        "outputId": "5a757e6c-6c67-4c12-9277-d0a21479c4d8"
      },
      "cell_type": "code",
      "source": [
        "# Делим датасет на тренировочную и тестовую выборки\n",
        "X = df.drop(columns='churn')\n",
        "y = df['churn']\n",
        "\n",
        "df_train, df_test = train_test_split(df, test_size=0.25, stratify=df['churn'], random_state =42)\n",
        "\n",
        "len(df_train), len(df_test)"
      ],
      "outputs": [
        {
          "output_type": "execute_result",
          "data": {
            "text/plain": [
              "(7500, 2500)"
            ]
          },
          "metadata": {},
          "execution_count": 32
        }
      ],
      "execution_count": null,
      "id": "f9ba6f82fa428dd9"
    },
    {
      "metadata": {
        "id": "8851165ae29d5379"
      },
      "cell_type": "markdown",
      "source": [
        "Выведем основные статистики данных: среднее, медиана, перцентили (0.25, 0.5, 0.75), минимум, максимум, стандартное отклонение."
      ],
      "id": "8851165ae29d5379"
    },
    {
      "metadata": {
        "ExecuteTime": {
          "end_time": "2024-05-12T09:03:56.120440Z",
          "start_time": "2024-05-12T09:03:56.093210Z"
        },
        "colab": {
          "base_uri": "https://localhost:8080/",
          "height": 300
        },
        "id": "9e8307227f92fa67",
        "outputId": "a4d37019-4f49-40d2-c153-b6036c63aa85"
      },
      "cell_type": "code",
      "source": [
        "df_train.describe()"
      ],
      "outputs": [
        {
          "output_type": "execute_result",
          "data": {
            "text/plain": [
              "       credit_score         age       tenure        balance  products_number  \\\n",
              "count   7500.000000  7500.00000  7500.000000    7500.000000      7500.000000   \n",
              "mean     650.507733    38.98000     5.022800   76328.197195         1.532267   \n",
              "std       96.637724    10.55188     2.893613   62385.961630         0.581897   \n",
              "min      350.000000    18.00000     0.000000       0.000000         1.000000   \n",
              "25%      584.000000    32.00000     3.000000       0.000000         1.000000   \n",
              "50%      652.000000    37.00000     5.000000   96943.320000         1.000000   \n",
              "75%      717.000000    44.00000     8.000000  127785.447500         2.000000   \n",
              "max      850.000000    92.00000    10.000000  222267.630000         4.000000   \n",
              "\n",
              "       credit_card  active_member  estimated_salary        churn  \n",
              "count  7500.000000    7500.000000       7500.000000  7500.000000  \n",
              "mean      0.707200       0.516667      99540.472065     0.203733  \n",
              "std       0.455078       0.499755      57295.127395     0.402800  \n",
              "min       0.000000       0.000000         11.580000     0.000000  \n",
              "25%       0.000000       0.000000      50417.950000     0.000000  \n",
              "50%       1.000000       1.000000      98940.675000     0.000000  \n",
              "75%       1.000000       1.000000     148428.572500     0.000000  \n",
              "max       1.000000       1.000000     199992.480000     1.000000  "
            ],
            "text/html": [
              "\n",
              "  <div id=\"df-6acd2c26-83a5-427e-8686-8df358de2e12\" class=\"colab-df-container\">\n",
              "    <div>\n",
              "<style scoped>\n",
              "    .dataframe tbody tr th:only-of-type {\n",
              "        vertical-align: middle;\n",
              "    }\n",
              "\n",
              "    .dataframe tbody tr th {\n",
              "        vertical-align: top;\n",
              "    }\n",
              "\n",
              "    .dataframe thead th {\n",
              "        text-align: right;\n",
              "    }\n",
              "</style>\n",
              "<table border=\"1\" class=\"dataframe\">\n",
              "  <thead>\n",
              "    <tr style=\"text-align: right;\">\n",
              "      <th></th>\n",
              "      <th>credit_score</th>\n",
              "      <th>age</th>\n",
              "      <th>tenure</th>\n",
              "      <th>balance</th>\n",
              "      <th>products_number</th>\n",
              "      <th>credit_card</th>\n",
              "      <th>active_member</th>\n",
              "      <th>estimated_salary</th>\n",
              "      <th>churn</th>\n",
              "    </tr>\n",
              "  </thead>\n",
              "  <tbody>\n",
              "    <tr>\n",
              "      <th>count</th>\n",
              "      <td>7500.000000</td>\n",
              "      <td>7500.00000</td>\n",
              "      <td>7500.000000</td>\n",
              "      <td>7500.000000</td>\n",
              "      <td>7500.000000</td>\n",
              "      <td>7500.000000</td>\n",
              "      <td>7500.000000</td>\n",
              "      <td>7500.000000</td>\n",
              "      <td>7500.000000</td>\n",
              "    </tr>\n",
              "    <tr>\n",
              "      <th>mean</th>\n",
              "      <td>650.507733</td>\n",
              "      <td>38.98000</td>\n",
              "      <td>5.022800</td>\n",
              "      <td>76328.197195</td>\n",
              "      <td>1.532267</td>\n",
              "      <td>0.707200</td>\n",
              "      <td>0.516667</td>\n",
              "      <td>99540.472065</td>\n",
              "      <td>0.203733</td>\n",
              "    </tr>\n",
              "    <tr>\n",
              "      <th>std</th>\n",
              "      <td>96.637724</td>\n",
              "      <td>10.55188</td>\n",
              "      <td>2.893613</td>\n",
              "      <td>62385.961630</td>\n",
              "      <td>0.581897</td>\n",
              "      <td>0.455078</td>\n",
              "      <td>0.499755</td>\n",
              "      <td>57295.127395</td>\n",
              "      <td>0.402800</td>\n",
              "    </tr>\n",
              "    <tr>\n",
              "      <th>min</th>\n",
              "      <td>350.000000</td>\n",
              "      <td>18.00000</td>\n",
              "      <td>0.000000</td>\n",
              "      <td>0.000000</td>\n",
              "      <td>1.000000</td>\n",
              "      <td>0.000000</td>\n",
              "      <td>0.000000</td>\n",
              "      <td>11.580000</td>\n",
              "      <td>0.000000</td>\n",
              "    </tr>\n",
              "    <tr>\n",
              "      <th>25%</th>\n",
              "      <td>584.000000</td>\n",
              "      <td>32.00000</td>\n",
              "      <td>3.000000</td>\n",
              "      <td>0.000000</td>\n",
              "      <td>1.000000</td>\n",
              "      <td>0.000000</td>\n",
              "      <td>0.000000</td>\n",
              "      <td>50417.950000</td>\n",
              "      <td>0.000000</td>\n",
              "    </tr>\n",
              "    <tr>\n",
              "      <th>50%</th>\n",
              "      <td>652.000000</td>\n",
              "      <td>37.00000</td>\n",
              "      <td>5.000000</td>\n",
              "      <td>96943.320000</td>\n",
              "      <td>1.000000</td>\n",
              "      <td>1.000000</td>\n",
              "      <td>1.000000</td>\n",
              "      <td>98940.675000</td>\n",
              "      <td>0.000000</td>\n",
              "    </tr>\n",
              "    <tr>\n",
              "      <th>75%</th>\n",
              "      <td>717.000000</td>\n",
              "      <td>44.00000</td>\n",
              "      <td>8.000000</td>\n",
              "      <td>127785.447500</td>\n",
              "      <td>2.000000</td>\n",
              "      <td>1.000000</td>\n",
              "      <td>1.000000</td>\n",
              "      <td>148428.572500</td>\n",
              "      <td>0.000000</td>\n",
              "    </tr>\n",
              "    <tr>\n",
              "      <th>max</th>\n",
              "      <td>850.000000</td>\n",
              "      <td>92.00000</td>\n",
              "      <td>10.000000</td>\n",
              "      <td>222267.630000</td>\n",
              "      <td>4.000000</td>\n",
              "      <td>1.000000</td>\n",
              "      <td>1.000000</td>\n",
              "      <td>199992.480000</td>\n",
              "      <td>1.000000</td>\n",
              "    </tr>\n",
              "  </tbody>\n",
              "</table>\n",
              "</div>\n",
              "    <div class=\"colab-df-buttons\">\n",
              "\n",
              "  <div class=\"colab-df-container\">\n",
              "    <button class=\"colab-df-convert\" onclick=\"convertToInteractive('df-6acd2c26-83a5-427e-8686-8df358de2e12')\"\n",
              "            title=\"Convert this dataframe to an interactive table.\"\n",
              "            style=\"display:none;\">\n",
              "\n",
              "  <svg xmlns=\"http://www.w3.org/2000/svg\" height=\"24px\" viewBox=\"0 -960 960 960\">\n",
              "    <path d=\"M120-120v-720h720v720H120Zm60-500h600v-160H180v160Zm220 220h160v-160H400v160Zm0 220h160v-160H400v160ZM180-400h160v-160H180v160Zm440 0h160v-160H620v160ZM180-180h160v-160H180v160Zm440 0h160v-160H620v160Z\"/>\n",
              "  </svg>\n",
              "    </button>\n",
              "\n",
              "  <style>\n",
              "    .colab-df-container {\n",
              "      display:flex;\n",
              "      gap: 12px;\n",
              "    }\n",
              "\n",
              "    .colab-df-convert {\n",
              "      background-color: #E8F0FE;\n",
              "      border: none;\n",
              "      border-radius: 50%;\n",
              "      cursor: pointer;\n",
              "      display: none;\n",
              "      fill: #1967D2;\n",
              "      height: 32px;\n",
              "      padding: 0 0 0 0;\n",
              "      width: 32px;\n",
              "    }\n",
              "\n",
              "    .colab-df-convert:hover {\n",
              "      background-color: #E2EBFA;\n",
              "      box-shadow: 0px 1px 2px rgba(60, 64, 67, 0.3), 0px 1px 3px 1px rgba(60, 64, 67, 0.15);\n",
              "      fill: #174EA6;\n",
              "    }\n",
              "\n",
              "    .colab-df-buttons div {\n",
              "      margin-bottom: 4px;\n",
              "    }\n",
              "\n",
              "    [theme=dark] .colab-df-convert {\n",
              "      background-color: #3B4455;\n",
              "      fill: #D2E3FC;\n",
              "    }\n",
              "\n",
              "    [theme=dark] .colab-df-convert:hover {\n",
              "      background-color: #434B5C;\n",
              "      box-shadow: 0px 1px 3px 1px rgba(0, 0, 0, 0.15);\n",
              "      filter: drop-shadow(0px 1px 2px rgba(0, 0, 0, 0.3));\n",
              "      fill: #FFFFFF;\n",
              "    }\n",
              "  </style>\n",
              "\n",
              "    <script>\n",
              "      const buttonEl =\n",
              "        document.querySelector('#df-6acd2c26-83a5-427e-8686-8df358de2e12 button.colab-df-convert');\n",
              "      buttonEl.style.display =\n",
              "        google.colab.kernel.accessAllowed ? 'block' : 'none';\n",
              "\n",
              "      async function convertToInteractive(key) {\n",
              "        const element = document.querySelector('#df-6acd2c26-83a5-427e-8686-8df358de2e12');\n",
              "        const dataTable =\n",
              "          await google.colab.kernel.invokeFunction('convertToInteractive',\n",
              "                                                    [key], {});\n",
              "        if (!dataTable) return;\n",
              "\n",
              "        const docLinkHtml = 'Like what you see? Visit the ' +\n",
              "          '<a target=\"_blank\" href=https://colab.research.google.com/notebooks/data_table.ipynb>data table notebook</a>'\n",
              "          + ' to learn more about interactive tables.';\n",
              "        element.innerHTML = '';\n",
              "        dataTable['output_type'] = 'display_data';\n",
              "        await google.colab.output.renderOutput(dataTable, element);\n",
              "        const docLink = document.createElement('div');\n",
              "        docLink.innerHTML = docLinkHtml;\n",
              "        element.appendChild(docLink);\n",
              "      }\n",
              "    </script>\n",
              "  </div>\n",
              "\n",
              "\n",
              "<div id=\"df-2412208d-be1b-4a0d-874b-a0c6a5154ceb\">\n",
              "  <button class=\"colab-df-quickchart\" onclick=\"quickchart('df-2412208d-be1b-4a0d-874b-a0c6a5154ceb')\"\n",
              "            title=\"Suggest charts\"\n",
              "            style=\"display:none;\">\n",
              "\n",
              "<svg xmlns=\"http://www.w3.org/2000/svg\" height=\"24px\"viewBox=\"0 0 24 24\"\n",
              "     width=\"24px\">\n",
              "    <g>\n",
              "        <path d=\"M19 3H5c-1.1 0-2 .9-2 2v14c0 1.1.9 2 2 2h14c1.1 0 2-.9 2-2V5c0-1.1-.9-2-2-2zM9 17H7v-7h2v7zm4 0h-2V7h2v10zm4 0h-2v-4h2v4z\"/>\n",
              "    </g>\n",
              "</svg>\n",
              "  </button>\n",
              "\n",
              "<style>\n",
              "  .colab-df-quickchart {\n",
              "      --bg-color: #E8F0FE;\n",
              "      --fill-color: #1967D2;\n",
              "      --hover-bg-color: #E2EBFA;\n",
              "      --hover-fill-color: #174EA6;\n",
              "      --disabled-fill-color: #AAA;\n",
              "      --disabled-bg-color: #DDD;\n",
              "  }\n",
              "\n",
              "  [theme=dark] .colab-df-quickchart {\n",
              "      --bg-color: #3B4455;\n",
              "      --fill-color: #D2E3FC;\n",
              "      --hover-bg-color: #434B5C;\n",
              "      --hover-fill-color: #FFFFFF;\n",
              "      --disabled-bg-color: #3B4455;\n",
              "      --disabled-fill-color: #666;\n",
              "  }\n",
              "\n",
              "  .colab-df-quickchart {\n",
              "    background-color: var(--bg-color);\n",
              "    border: none;\n",
              "    border-radius: 50%;\n",
              "    cursor: pointer;\n",
              "    display: none;\n",
              "    fill: var(--fill-color);\n",
              "    height: 32px;\n",
              "    padding: 0;\n",
              "    width: 32px;\n",
              "  }\n",
              "\n",
              "  .colab-df-quickchart:hover {\n",
              "    background-color: var(--hover-bg-color);\n",
              "    box-shadow: 0 1px 2px rgba(60, 64, 67, 0.3), 0 1px 3px 1px rgba(60, 64, 67, 0.15);\n",
              "    fill: var(--button-hover-fill-color);\n",
              "  }\n",
              "\n",
              "  .colab-df-quickchart-complete:disabled,\n",
              "  .colab-df-quickchart-complete:disabled:hover {\n",
              "    background-color: var(--disabled-bg-color);\n",
              "    fill: var(--disabled-fill-color);\n",
              "    box-shadow: none;\n",
              "  }\n",
              "\n",
              "  .colab-df-spinner {\n",
              "    border: 2px solid var(--fill-color);\n",
              "    border-color: transparent;\n",
              "    border-bottom-color: var(--fill-color);\n",
              "    animation:\n",
              "      spin 1s steps(1) infinite;\n",
              "  }\n",
              "\n",
              "  @keyframes spin {\n",
              "    0% {\n",
              "      border-color: transparent;\n",
              "      border-bottom-color: var(--fill-color);\n",
              "      border-left-color: var(--fill-color);\n",
              "    }\n",
              "    20% {\n",
              "      border-color: transparent;\n",
              "      border-left-color: var(--fill-color);\n",
              "      border-top-color: var(--fill-color);\n",
              "    }\n",
              "    30% {\n",
              "      border-color: transparent;\n",
              "      border-left-color: var(--fill-color);\n",
              "      border-top-color: var(--fill-color);\n",
              "      border-right-color: var(--fill-color);\n",
              "    }\n",
              "    40% {\n",
              "      border-color: transparent;\n",
              "      border-right-color: var(--fill-color);\n",
              "      border-top-color: var(--fill-color);\n",
              "    }\n",
              "    60% {\n",
              "      border-color: transparent;\n",
              "      border-right-color: var(--fill-color);\n",
              "    }\n",
              "    80% {\n",
              "      border-color: transparent;\n",
              "      border-right-color: var(--fill-color);\n",
              "      border-bottom-color: var(--fill-color);\n",
              "    }\n",
              "    90% {\n",
              "      border-color: transparent;\n",
              "      border-bottom-color: var(--fill-color);\n",
              "    }\n",
              "  }\n",
              "</style>\n",
              "\n",
              "  <script>\n",
              "    async function quickchart(key) {\n",
              "      const quickchartButtonEl =\n",
              "        document.querySelector('#' + key + ' button');\n",
              "      quickchartButtonEl.disabled = true;  // To prevent multiple clicks.\n",
              "      quickchartButtonEl.classList.add('colab-df-spinner');\n",
              "      try {\n",
              "        const charts = await google.colab.kernel.invokeFunction(\n",
              "            'suggestCharts', [key], {});\n",
              "      } catch (error) {\n",
              "        console.error('Error during call to suggestCharts:', error);\n",
              "      }\n",
              "      quickchartButtonEl.classList.remove('colab-df-spinner');\n",
              "      quickchartButtonEl.classList.add('colab-df-quickchart-complete');\n",
              "    }\n",
              "    (() => {\n",
              "      let quickchartButtonEl =\n",
              "        document.querySelector('#df-2412208d-be1b-4a0d-874b-a0c6a5154ceb button');\n",
              "      quickchartButtonEl.style.display =\n",
              "        google.colab.kernel.accessAllowed ? 'block' : 'none';\n",
              "    })();\n",
              "  </script>\n",
              "</div>\n",
              "    </div>\n",
              "  </div>\n"
            ],
            "application/vnd.google.colaboratory.intrinsic+json": {
              "type": "dataframe",
              "summary": "{\n  \"name\": \"df_train\",\n  \"rows\": 8,\n  \"fields\": [\n    {\n      \"column\": \"credit_score\",\n      \"properties\": {\n        \"dtype\": \"number\",\n        \"std\": 2465.8332003485048,\n        \"min\": 96.63772444979135,\n        \"max\": 7500.0,\n        \"num_unique_values\": 8,\n        \"samples\": [\n          650.5077333333334,\n          652.0,\n          7500.0\n        ],\n        \"semantic_type\": \"\",\n        \"description\": \"\"\n      }\n    },\n    {\n      \"column\": \"age\",\n      \"properties\": {\n        \"dtype\": \"number\",\n        \"std\": 2637.997517157216,\n        \"min\": 10.551880351728515,\n        \"max\": 7500.0,\n        \"num_unique_values\": 8,\n        \"samples\": [\n          38.98,\n          37.0,\n          7500.0\n        ],\n        \"semantic_type\": \"\",\n        \"description\": \"\"\n      }\n    },\n    {\n      \"column\": \"tenure\",\n      \"properties\": {\n        \"dtype\": \"number\",\n        \"std\": 2649.939205141952,\n        \"min\": 0.0,\n        \"max\": 7500.0,\n        \"num_unique_values\": 8,\n        \"samples\": [\n          5.0228,\n          5.0,\n          7500.0\n        ],\n        \"semantic_type\": \"\",\n        \"description\": \"\"\n      }\n    },\n    {\n      \"column\": \"balance\",\n      \"properties\": {\n        \"dtype\": \"number\",\n        \"std\": 76454.4062168681,\n        \"min\": 0.0,\n        \"max\": 222267.63,\n        \"num_unique_values\": 7,\n        \"samples\": [\n          7500.0,\n          76328.19719466667,\n          127785.4475\n        ],\n        \"semantic_type\": \"\",\n        \"description\": \"\"\n      }\n    },\n    {\n      \"column\": \"products_number\",\n      \"properties\": {\n        \"dtype\": \"number\",\n        \"std\": 2651.0892960432875,\n        \"min\": 0.5818969061813946,\n        \"max\": 7500.0,\n        \"num_unique_values\": 6,\n        \"samples\": [\n          7500.0,\n          1.5322666666666667,\n          4.0\n        ],\n        \"semantic_type\": \"\",\n        \"description\": \"\"\n      }\n    },\n    {\n      \"column\": \"credit_card\",\n      \"properties\": {\n        \"dtype\": \"number\",\n        \"std\": 2651.440235873098,\n        \"min\": 0.0,\n        \"max\": 7500.0,\n        \"num_unique_values\": 5,\n        \"samples\": [\n          0.7072,\n          1.0,\n          0.45507776562880176\n        ],\n        \"semantic_type\": \"\",\n        \"description\": \"\"\n      }\n    },\n    {\n      \"column\": \"active_member\",\n      \"properties\": {\n        \"dtype\": \"number\",\n        \"std\": 2651.4476021532814,\n        \"min\": 0.0,\n        \"max\": 7500.0,\n        \"num_unique_values\": 5,\n        \"samples\": [\n          0.5166666666666667,\n          1.0,\n          0.49975546316035074\n        ],\n        \"semantic_type\": \"\",\n        \"description\": \"\"\n      }\n    },\n    {\n      \"column\": \"estimated_salary\",\n      \"properties\": {\n        \"dtype\": \"number\",\n        \"std\": 68457.54736683196,\n        \"min\": 11.58,\n        \"max\": 199992.48,\n        \"num_unique_values\": 8,\n        \"samples\": [\n          99540.47206533334,\n          98940.675,\n          7500.0\n        ],\n        \"semantic_type\": \"\",\n        \"description\": \"\"\n      }\n    },\n    {\n      \"column\": \"churn\",\n      \"properties\": {\n        \"dtype\": \"number\",\n        \"std\": 2651.5693097666112,\n        \"min\": 0.0,\n        \"max\": 7500.0,\n        \"num_unique_values\": 5,\n        \"samples\": [\n          0.20373333333333332,\n          1.0,\n          0.4027998203180524\n        ],\n        \"semantic_type\": \"\",\n        \"description\": \"\"\n      }\n    }\n  ]\n}"
            }
          },
          "metadata": {},
          "execution_count": 33
        }
      ],
      "execution_count": null,
      "id": "9e8307227f92fa67"
    },
    {
      "metadata": {
        "ExecuteTime": {
          "end_time": "2024-05-12T09:03:56.446746Z",
          "start_time": "2024-05-12T09:03:56.430510Z"
        },
        "colab": {
          "base_uri": "https://localhost:8080/",
          "height": 143
        },
        "id": "3ff8d7dd16e07897",
        "outputId": "c8c8ff67-562d-4d72-c4a6-9e5dd3736d1d"
      },
      "cell_type": "code",
      "source": [
        "features = df_train.columns.drop('churn')\n",
        "subsets = ['credit_score']\n",
        "df_train.groupby('churn')[features].mean(numeric_only=True)"
      ],
      "outputs": [
        {
          "output_type": "execute_result",
          "data": {
            "text/plain": [
              "       credit_score        age    tenure       balance  products_number  \\\n",
              "churn                                                                     \n",
              "0        652.159578  37.523778  5.016075  72586.958505         1.546383   \n",
              "1        644.051702  44.671466  5.049084  90950.368305         1.477094   \n",
              "\n",
              "       credit_card  active_member  estimated_salary  \n",
              "churn                                                \n",
              "0         0.710147       0.555090      98868.429612  \n",
              "1         0.695681       0.366492     102167.067310  "
            ],
            "text/html": [
              "\n",
              "  <div id=\"df-c99469e9-7a8b-41d0-b3c6-154b151be51d\" class=\"colab-df-container\">\n",
              "    <div>\n",
              "<style scoped>\n",
              "    .dataframe tbody tr th:only-of-type {\n",
              "        vertical-align: middle;\n",
              "    }\n",
              "\n",
              "    .dataframe tbody tr th {\n",
              "        vertical-align: top;\n",
              "    }\n",
              "\n",
              "    .dataframe thead th {\n",
              "        text-align: right;\n",
              "    }\n",
              "</style>\n",
              "<table border=\"1\" class=\"dataframe\">\n",
              "  <thead>\n",
              "    <tr style=\"text-align: right;\">\n",
              "      <th></th>\n",
              "      <th>credit_score</th>\n",
              "      <th>age</th>\n",
              "      <th>tenure</th>\n",
              "      <th>balance</th>\n",
              "      <th>products_number</th>\n",
              "      <th>credit_card</th>\n",
              "      <th>active_member</th>\n",
              "      <th>estimated_salary</th>\n",
              "    </tr>\n",
              "    <tr>\n",
              "      <th>churn</th>\n",
              "      <th></th>\n",
              "      <th></th>\n",
              "      <th></th>\n",
              "      <th></th>\n",
              "      <th></th>\n",
              "      <th></th>\n",
              "      <th></th>\n",
              "      <th></th>\n",
              "    </tr>\n",
              "  </thead>\n",
              "  <tbody>\n",
              "    <tr>\n",
              "      <th>0</th>\n",
              "      <td>652.159578</td>\n",
              "      <td>37.523778</td>\n",
              "      <td>5.016075</td>\n",
              "      <td>72586.958505</td>\n",
              "      <td>1.546383</td>\n",
              "      <td>0.710147</td>\n",
              "      <td>0.555090</td>\n",
              "      <td>98868.429612</td>\n",
              "    </tr>\n",
              "    <tr>\n",
              "      <th>1</th>\n",
              "      <td>644.051702</td>\n",
              "      <td>44.671466</td>\n",
              "      <td>5.049084</td>\n",
              "      <td>90950.368305</td>\n",
              "      <td>1.477094</td>\n",
              "      <td>0.695681</td>\n",
              "      <td>0.366492</td>\n",
              "      <td>102167.067310</td>\n",
              "    </tr>\n",
              "  </tbody>\n",
              "</table>\n",
              "</div>\n",
              "    <div class=\"colab-df-buttons\">\n",
              "\n",
              "  <div class=\"colab-df-container\">\n",
              "    <button class=\"colab-df-convert\" onclick=\"convertToInteractive('df-c99469e9-7a8b-41d0-b3c6-154b151be51d')\"\n",
              "            title=\"Convert this dataframe to an interactive table.\"\n",
              "            style=\"display:none;\">\n",
              "\n",
              "  <svg xmlns=\"http://www.w3.org/2000/svg\" height=\"24px\" viewBox=\"0 -960 960 960\">\n",
              "    <path d=\"M120-120v-720h720v720H120Zm60-500h600v-160H180v160Zm220 220h160v-160H400v160Zm0 220h160v-160H400v160ZM180-400h160v-160H180v160Zm440 0h160v-160H620v160ZM180-180h160v-160H180v160Zm440 0h160v-160H620v160Z\"/>\n",
              "  </svg>\n",
              "    </button>\n",
              "\n",
              "  <style>\n",
              "    .colab-df-container {\n",
              "      display:flex;\n",
              "      gap: 12px;\n",
              "    }\n",
              "\n",
              "    .colab-df-convert {\n",
              "      background-color: #E8F0FE;\n",
              "      border: none;\n",
              "      border-radius: 50%;\n",
              "      cursor: pointer;\n",
              "      display: none;\n",
              "      fill: #1967D2;\n",
              "      height: 32px;\n",
              "      padding: 0 0 0 0;\n",
              "      width: 32px;\n",
              "    }\n",
              "\n",
              "    .colab-df-convert:hover {\n",
              "      background-color: #E2EBFA;\n",
              "      box-shadow: 0px 1px 2px rgba(60, 64, 67, 0.3), 0px 1px 3px 1px rgba(60, 64, 67, 0.15);\n",
              "      fill: #174EA6;\n",
              "    }\n",
              "\n",
              "    .colab-df-buttons div {\n",
              "      margin-bottom: 4px;\n",
              "    }\n",
              "\n",
              "    [theme=dark] .colab-df-convert {\n",
              "      background-color: #3B4455;\n",
              "      fill: #D2E3FC;\n",
              "    }\n",
              "\n",
              "    [theme=dark] .colab-df-convert:hover {\n",
              "      background-color: #434B5C;\n",
              "      box-shadow: 0px 1px 3px 1px rgba(0, 0, 0, 0.15);\n",
              "      filter: drop-shadow(0px 1px 2px rgba(0, 0, 0, 0.3));\n",
              "      fill: #FFFFFF;\n",
              "    }\n",
              "  </style>\n",
              "\n",
              "    <script>\n",
              "      const buttonEl =\n",
              "        document.querySelector('#df-c99469e9-7a8b-41d0-b3c6-154b151be51d button.colab-df-convert');\n",
              "      buttonEl.style.display =\n",
              "        google.colab.kernel.accessAllowed ? 'block' : 'none';\n",
              "\n",
              "      async function convertToInteractive(key) {\n",
              "        const element = document.querySelector('#df-c99469e9-7a8b-41d0-b3c6-154b151be51d');\n",
              "        const dataTable =\n",
              "          await google.colab.kernel.invokeFunction('convertToInteractive',\n",
              "                                                    [key], {});\n",
              "        if (!dataTable) return;\n",
              "\n",
              "        const docLinkHtml = 'Like what you see? Visit the ' +\n",
              "          '<a target=\"_blank\" href=https://colab.research.google.com/notebooks/data_table.ipynb>data table notebook</a>'\n",
              "          + ' to learn more about interactive tables.';\n",
              "        element.innerHTML = '';\n",
              "        dataTable['output_type'] = 'display_data';\n",
              "        await google.colab.output.renderOutput(dataTable, element);\n",
              "        const docLink = document.createElement('div');\n",
              "        docLink.innerHTML = docLinkHtml;\n",
              "        element.appendChild(docLink);\n",
              "      }\n",
              "    </script>\n",
              "  </div>\n",
              "\n",
              "\n",
              "<div id=\"df-2dc3b050-8f3b-4d07-bb39-77b2d7ae1739\">\n",
              "  <button class=\"colab-df-quickchart\" onclick=\"quickchart('df-2dc3b050-8f3b-4d07-bb39-77b2d7ae1739')\"\n",
              "            title=\"Suggest charts\"\n",
              "            style=\"display:none;\">\n",
              "\n",
              "<svg xmlns=\"http://www.w3.org/2000/svg\" height=\"24px\"viewBox=\"0 0 24 24\"\n",
              "     width=\"24px\">\n",
              "    <g>\n",
              "        <path d=\"M19 3H5c-1.1 0-2 .9-2 2v14c0 1.1.9 2 2 2h14c1.1 0 2-.9 2-2V5c0-1.1-.9-2-2-2zM9 17H7v-7h2v7zm4 0h-2V7h2v10zm4 0h-2v-4h2v4z\"/>\n",
              "    </g>\n",
              "</svg>\n",
              "  </button>\n",
              "\n",
              "<style>\n",
              "  .colab-df-quickchart {\n",
              "      --bg-color: #E8F0FE;\n",
              "      --fill-color: #1967D2;\n",
              "      --hover-bg-color: #E2EBFA;\n",
              "      --hover-fill-color: #174EA6;\n",
              "      --disabled-fill-color: #AAA;\n",
              "      --disabled-bg-color: #DDD;\n",
              "  }\n",
              "\n",
              "  [theme=dark] .colab-df-quickchart {\n",
              "      --bg-color: #3B4455;\n",
              "      --fill-color: #D2E3FC;\n",
              "      --hover-bg-color: #434B5C;\n",
              "      --hover-fill-color: #FFFFFF;\n",
              "      --disabled-bg-color: #3B4455;\n",
              "      --disabled-fill-color: #666;\n",
              "  }\n",
              "\n",
              "  .colab-df-quickchart {\n",
              "    background-color: var(--bg-color);\n",
              "    border: none;\n",
              "    border-radius: 50%;\n",
              "    cursor: pointer;\n",
              "    display: none;\n",
              "    fill: var(--fill-color);\n",
              "    height: 32px;\n",
              "    padding: 0;\n",
              "    width: 32px;\n",
              "  }\n",
              "\n",
              "  .colab-df-quickchart:hover {\n",
              "    background-color: var(--hover-bg-color);\n",
              "    box-shadow: 0 1px 2px rgba(60, 64, 67, 0.3), 0 1px 3px 1px rgba(60, 64, 67, 0.15);\n",
              "    fill: var(--button-hover-fill-color);\n",
              "  }\n",
              "\n",
              "  .colab-df-quickchart-complete:disabled,\n",
              "  .colab-df-quickchart-complete:disabled:hover {\n",
              "    background-color: var(--disabled-bg-color);\n",
              "    fill: var(--disabled-fill-color);\n",
              "    box-shadow: none;\n",
              "  }\n",
              "\n",
              "  .colab-df-spinner {\n",
              "    border: 2px solid var(--fill-color);\n",
              "    border-color: transparent;\n",
              "    border-bottom-color: var(--fill-color);\n",
              "    animation:\n",
              "      spin 1s steps(1) infinite;\n",
              "  }\n",
              "\n",
              "  @keyframes spin {\n",
              "    0% {\n",
              "      border-color: transparent;\n",
              "      border-bottom-color: var(--fill-color);\n",
              "      border-left-color: var(--fill-color);\n",
              "    }\n",
              "    20% {\n",
              "      border-color: transparent;\n",
              "      border-left-color: var(--fill-color);\n",
              "      border-top-color: var(--fill-color);\n",
              "    }\n",
              "    30% {\n",
              "      border-color: transparent;\n",
              "      border-left-color: var(--fill-color);\n",
              "      border-top-color: var(--fill-color);\n",
              "      border-right-color: var(--fill-color);\n",
              "    }\n",
              "    40% {\n",
              "      border-color: transparent;\n",
              "      border-right-color: var(--fill-color);\n",
              "      border-top-color: var(--fill-color);\n",
              "    }\n",
              "    60% {\n",
              "      border-color: transparent;\n",
              "      border-right-color: var(--fill-color);\n",
              "    }\n",
              "    80% {\n",
              "      border-color: transparent;\n",
              "      border-right-color: var(--fill-color);\n",
              "      border-bottom-color: var(--fill-color);\n",
              "    }\n",
              "    90% {\n",
              "      border-color: transparent;\n",
              "      border-bottom-color: var(--fill-color);\n",
              "    }\n",
              "  }\n",
              "</style>\n",
              "\n",
              "  <script>\n",
              "    async function quickchart(key) {\n",
              "      const quickchartButtonEl =\n",
              "        document.querySelector('#' + key + ' button');\n",
              "      quickchartButtonEl.disabled = true;  // To prevent multiple clicks.\n",
              "      quickchartButtonEl.classList.add('colab-df-spinner');\n",
              "      try {\n",
              "        const charts = await google.colab.kernel.invokeFunction(\n",
              "            'suggestCharts', [key], {});\n",
              "      } catch (error) {\n",
              "        console.error('Error during call to suggestCharts:', error);\n",
              "      }\n",
              "      quickchartButtonEl.classList.remove('colab-df-spinner');\n",
              "      quickchartButtonEl.classList.add('colab-df-quickchart-complete');\n",
              "    }\n",
              "    (() => {\n",
              "      let quickchartButtonEl =\n",
              "        document.querySelector('#df-2dc3b050-8f3b-4d07-bb39-77b2d7ae1739 button');\n",
              "      quickchartButtonEl.style.display =\n",
              "        google.colab.kernel.accessAllowed ? 'block' : 'none';\n",
              "    })();\n",
              "  </script>\n",
              "</div>\n",
              "    </div>\n",
              "  </div>\n"
            ],
            "application/vnd.google.colaboratory.intrinsic+json": {
              "type": "dataframe",
              "summary": "{\n  \"name\": \"df_train\",\n  \"rows\": 2,\n  \"fields\": [\n    {\n      \"column\": \"churn\",\n      \"properties\": {\n        \"dtype\": \"number\",\n        \"std\": 0,\n        \"min\": 0,\n        \"max\": 1,\n        \"num_unique_values\": 2,\n        \"samples\": [\n          1,\n          0\n        ],\n        \"semantic_type\": \"\",\n        \"description\": \"\"\n      }\n    },\n    {\n      \"column\": \"credit_score\",\n      \"properties\": {\n        \"dtype\": \"number\",\n        \"std\": 5.733134425980543,\n        \"min\": 644.0517015706806,\n        \"max\": 652.1595780308104,\n        \"num_unique_values\": 2,\n        \"samples\": [\n          644.0517015706806,\n          652.1595780308104\n        ],\n        \"semantic_type\": \"\",\n        \"description\": \"\"\n      }\n    },\n    {\n      \"column\": \"age\",\n      \"properties\": {\n        \"dtype\": \"number\",\n        \"std\": 5.054178894775491,\n        \"min\": 37.52377762893503,\n        \"max\": 44.67146596858639,\n        \"num_unique_values\": 2,\n        \"samples\": [\n          44.67146596858639,\n          37.52377762893503\n        ],\n        \"semantic_type\": \"\",\n        \"description\": \"\"\n      }\n    },\n    {\n      \"column\": \"tenure\",\n      \"properties\": {\n        \"dtype\": \"number\",\n        \"std\": 0.02334071300610985,\n        \"min\": 5.016075016744809,\n        \"max\": 5.049083769633508,\n        \"num_unique_values\": 2,\n        \"samples\": [\n          5.049083769633508,\n          5.016075016744809\n        ],\n        \"semantic_type\": \"\",\n        \"description\": \"\"\n      }\n    },\n    {\n      \"column\": \"balance\",\n      \"properties\": {\n        \"dtype\": \"number\",\n        \"std\": 12984.891595489229,\n        \"min\": 72586.95850468855,\n        \"max\": 90950.36830497383,\n        \"num_unique_values\": 2,\n        \"samples\": [\n          90950.36830497383,\n          72586.95850468855\n        ],\n        \"semantic_type\": \"\",\n        \"description\": \"\"\n      }\n    },\n    {\n      \"column\": \"products_number\",\n      \"properties\": {\n        \"dtype\": \"number\",\n        \"std\": 0.048994637187931254,\n        \"min\": 1.4770942408376964,\n        \"max\": 1.546383121232418,\n        \"num_unique_values\": 2,\n        \"samples\": [\n          1.4770942408376964,\n          1.546383121232418\n        ],\n        \"semantic_type\": \"\",\n        \"description\": \"\"\n      }\n    },\n    {\n      \"column\": \"credit_card\",\n      \"properties\": {\n        \"dtype\": \"number\",\n        \"std\": 0.010229520090044828,\n        \"min\": 0.6956806282722513,\n        \"max\": 0.7101473543201607,\n        \"num_unique_values\": 2,\n        \"samples\": [\n          0.6956806282722513,\n          0.7101473543201607\n        ],\n        \"semantic_type\": \"\",\n        \"description\": \"\"\n      }\n    },\n    {\n      \"column\": \"active_member\",\n      \"properties\": {\n        \"dtype\": \"number\",\n        \"std\": 0.13335911943586304,\n        \"min\": 0.36649214659685864,\n        \"max\": 0.5550904219691896,\n        \"num_unique_values\": 2,\n        \"samples\": [\n          0.36649214659685864,\n          0.5550904219691896\n        ],\n        \"semantic_type\": \"\",\n        \"description\": \"\"\n      }\n    },\n    {\n      \"column\": \"estimated_salary\",\n      \"properties\": {\n        \"dtype\": \"number\",\n        \"std\": 2332.4890854205764,\n        \"min\": 98868.42961152042,\n        \"max\": 102167.06731020942,\n        \"num_unique_values\": 2,\n        \"samples\": [\n          102167.06731020942,\n          98868.42961152042\n        ],\n        \"semantic_type\": \"\",\n        \"description\": \"\"\n      }\n    }\n  ]\n}"
            }
          },
          "metadata": {},
          "execution_count": 34
        }
      ],
      "execution_count": null,
      "id": "3ff8d7dd16e07897"
    },
    {
      "metadata": {
        "id": "4b5297e2b302fa19"
      },
      "cell_type": "markdown",
      "source": [
        "Посмотрим на распределение оттока:"
      ],
      "id": "4b5297e2b302fa19"
    },
    {
      "metadata": {
        "ExecuteTime": {
          "end_time": "2024-05-12T09:14:03.598912Z",
          "start_time": "2024-05-12T09:03:57.152630Z"
        },
        "colab": {
          "base_uri": "https://localhost:8080/",
          "height": 609
        },
        "id": "267716999cddcecc",
        "outputId": "7db78e70-f748-4c08-b563-f0b25f5d1290"
      },
      "cell_type": "code",
      "source": [
        "fig, axs = plt.subplots(1, 3, figsize=(12, 6))\n",
        "\n",
        "# Гистограмма для распределения классов\n",
        "sns.histplot(data=df_train, x=\"churn\", hue=\"churn\", ax=axs[0])\n",
        "axs[0].set_xlabel(\"Churn\")\n",
        "axs[0].set_ylabel(\"Frequency\")\n",
        "axs[0].set_title(\"Churn Distribution\");\n",
        "\n",
        "# Гистограмм для распределения баланса клиентов\n",
        "sns.histplot(data=df_train, x=\"balance\", ax=axs[1], hue=\"churn\", bins=30)\n",
        "axs[1].set_xlabel(\"Balance\")\n",
        "axs[1].set_ylabel(\"Frequency\")\n",
        "axs[1].set_title(\"Balance Distribution\")\n",
        "\n",
        "# График ящика с усами (boxenplot)\n",
        "sns.boxplot(x=\"churn\", y=\"balance\", data=df_train, hue=\"churn\", ax=axs[2])\n",
        "axs[2].set_xlabel(\"Churn\")\n",
        "axs[2].set_ylabel(\"Balance\")\n",
        "axs[2].set_title(\"Distribution of Balance by Churn\")\n",
        "\n",
        "# Добавление общего заголовка для всего изображения\n",
        "plt.suptitle(\"Balance and Churn Analysis\", fontsize=14, weight='bold')\n",
        "plt.tight_layout();"
      ],
      "outputs": [
        {
          "output_type": "display_data",
          "data": {
            "text/plain": [
              "<Figure size 1200x600 with 3 Axes>"
            ],
            "image/png": "[encoded data removed]"
          },
          "metadata": {}
        }
      ],
      "execution_count": null,
      "id": "267716999cddcecc"
    },
    {
      "metadata": {
        "id": "be698ce54ce1f62e"
      },
      "cell_type": "markdown",
      "source": [
        "Обратим внимание, что целевая переменная несбалансирована по классам: количество экземпляров класса с меткой 1 в четыре раза меньше,\n",
        "чем с меткой 0. Однако посмотрев на гистограмму распределения баланса на счету, можнро сказать, что распределение у классов одинаковое. Кроме того, ширина боксплота для распределения класса 0 значительно превышает ширину боксплота для класса 1, что указывает на большую вариативность значений в этом классе."
      ],
      "id": "be698ce54ce1f62e"
    },
    {
      "metadata": {
        "colab": {
          "base_uri": "https://localhost:8080/",
          "height": 607
        },
        "id": "79f38ba9162686de",
        "outputId": "f6e2ab35-c233-45e8-bd7b-e1dfe8f3d28f"
      },
      "cell_type": "code",
      "source": [
        "fig, axs = plt.subplots(1, 2, figsize=(10, 6))\n",
        "\n",
        "# График количества оттоков по странам\n",
        "sns.countplot(data=df, x='country', hue='churn', ax=axs[0])\n",
        "axs[0].set_xlabel(\"Country\")\n",
        "axs[0].set_ylabel(\"Count\")\n",
        "axs[0].set_title(\"Churn Count by Country\")\n",
        "\n",
        "# Гистограмма активных пользователей\n",
        "sns.histplot(data=df_train, x=\"active_member\", hue=\"churn\", ax=axs[1])\n",
        "axs[1].set_xlabel(\"Active_member\")\n",
        "axs[1].set_ylabel(\"Frequency\")\n",
        "axs[1].set_title(\"Distribution of Churn by Active Member\");\n",
        "plt.tight_layout();"
      ],
      "outputs": [
        {
          "output_type": "display_data",
          "data": {
            "text/plain": [
              "<Figure size 1000x600 with 2 Axes>"
            ],
            "image/png": "[encoded data removed]"
          },
          "metadata": {}
        }
      ],
      "execution_count": null,
      "id": "79f38ba9162686de"
    },
    {
      "cell_type": "markdown",
      "source": [
        "Как можем видеть, по 2 графику, видно, что отток среди неактивных клиентов выше, чем среди активных. Кроме того, из первого графика видно, что относительный отток наибольший в Германии."
      ],
      "metadata": {
        "id": "Dblm0GpDT0n1"
      },
      "id": "Dblm0GpDT0n1"
    },
    {
      "metadata": {
        "colab": {
          "base_uri": "https://localhost:8080/",
          "height": 561
        },
        "id": "ab513ba7b33d05e4",
        "outputId": "c54bb50b-bf1c-492a-cb26-bcfb7829ba10"
      },
      "cell_type": "code",
      "source": [
        "ax = sns.heatmap(df.corr(numeric_only=True), cmap='coolwarm', annot=True, fmt=\"0.2f\")\n",
        "ax.set_title(\"Correlation heatmap\", fontsize=14, weight='bold')\n",
        "plt.show()"
      ],
      "outputs": [
        {
          "output_type": "display_data",
          "data": {
            "text/plain": [
              "<Figure size 640x480 with 2 Axes>"
            ],
            "image/png": "[encoded data removed]"
          },
          "metadata": {}
        }
      ],
      "execution_count": null,
      "id": "ab513ba7b33d05e4"
    },
    {
      "cell_type": "markdown",
      "source": [
        "Из корреляционного анализа, видим что корреляции между признаками нет. Есть только слабые корреляции не привышающие по модулю 0.3."
      ],
      "metadata": {
        "id": "uly5bG1pPdxA"
      },
      "id": "uly5bG1pPdxA"
    },
    {
      "metadata": {
        "id": "6699495590e150c9"
      },
      "cell_type": "markdown",
      "source": [
        "# Закодируем категориальные переменные"
      ],
      "id": "6699495590e150c9"
    },
    {
      "metadata": {
        "jupyter": {
          "is_executing": true
        },
        "id": "6a2fefb94dc9e665"
      },
      "cell_type": "code",
      "source": [
        "from sklearn.feature_extraction.text import CountVectorizer, TfidfVectorizer\n",
        "from sklearn.naive_bayes import MultinomialNB\n",
        "from sklearn.pipeline import Pipeline\n",
        "from sklearn.metrics import f1_score, roc_auc_score, roc_curve, classification_report, auc, precision_score\n",
        "from sklearn.model_selection import train_test_split\n",
        "\n",
        "from sklearn.linear_model import LogisticRegression\n",
        "from sklearn.svm import SVC\n",
        "from sklearn.naive_bayes import MultinomialNB\n",
        "from sklearn.tree import DecisionTreeClassifier\n",
        "from sklearn.neighbors import KNeighborsClassifier\n",
        "from sklearn.ensemble import RandomForestClassifier\n",
        "from sklearn.ensemble import AdaBoostClassifier\n",
        "from sklearn.ensemble import BaggingClassifier\n",
        "from sklearn.ensemble import ExtraTreesClassifier\n",
        "from sklearn.ensemble import GradientBoostingClassifier\n",
        "from xgboost import XGBClassifier\n",
        "from sklearn.preprocessing import StandardScaler\n"
      ],
      "outputs": [],
      "execution_count": null,
      "id": "6a2fefb94dc9e665"
    },
    {
      "metadata": {
        "ExecuteTime": {
          "end_time": "2024-05-08T16:15:20.027566Z",
          "start_time": "2024-05-08T16:15:19.999211Z"
        },
        "id": "23e2c5b1cc31c62c"
      },
      "cell_type": "code",
      "source": [
        "# Делим датасет на тренировочную и тестовую выборки\n",
        "X = df.drop(columns='churn')\n",
        "y = df['churn']\n",
        "\n",
        "X_train, X_test, y_train, y_test = train_test_split(X, y, test_size=0.25, stratify=y, random_state =42)\n",
        "len(X_train), len(X_test)"
      ],
      "outputs": [],
      "execution_count": null,
      "id": "23e2c5b1cc31c62c"
    },
    {
      "metadata": {
        "ExecuteTime": {
          "end_time": "2024-05-08T16:15:20.043181Z",
          "start_time": "2024-05-08T16:15:20.029677Z"
        },
        "id": "5e74076986e95c22"
      },
      "cell_type": "code",
      "source": [
        "print(X_test[['credit_card']].value_counts(), end='\\n\\n')\n",
        "print(X_test[['active_member']].value_counts())"
      ],
      "outputs": [],
      "execution_count": null,
      "id": "5e74076986e95c22"
    },
    {
      "metadata": {
        "ExecuteTime": {
          "end_time": "2024-05-08T16:15:20.074370Z",
          "start_time": "2024-05-08T16:15:20.045364Z"
        },
        "id": "ceb0cc4f9b7153c7"
      },
      "cell_type": "code",
      "source": [
        "columns_no_normalize = ['credit_card', 'active_member', 'country', 'gender']\n",
        "features_to_normalize = [col for col in X_train.columns if col not in columns_no_normalize]\n",
        "\n",
        "# Создание экземпляра StandardScaler\n",
        "scaler = StandardScaler()\n",
        "\n",
        "# Нормализация обучающего набора\n",
        "X_train[features_to_normalize] = scaler.fit_transform(X_train[features_to_normalize])\n",
        "\n",
        "# Применение того же масштабирования к тестовому набору\n",
        "X_test[features_to_normalize] = scaler.transform(X_test[features_to_normalize])"
      ],
      "outputs": [],
      "execution_count": null,
      "id": "ceb0cc4f9b7153c7"
    },
    {
      "metadata": {
        "ExecuteTime": {
          "end_time": "2024-05-08T16:15:20.105234Z",
          "start_time": "2024-05-08T16:15:20.077370Z"
        },
        "id": "44df70f6b2183503"
      },
      "cell_type": "code",
      "source": [
        "X_train = pd.get_dummies(X_train, drop_first=True, columns=categorical_columns, dtype=int)\n",
        "X_test = pd.get_dummies(X_test, drop_first=True, columns=categorical_columns, dtype=int)"
      ],
      "outputs": [],
      "execution_count": null,
      "id": "44df70f6b2183503"
    },
    {
      "metadata": {
        "ExecuteTime": {
          "end_time": "2024-05-08T16:15:20.136845Z",
          "start_time": "2024-05-08T16:15:20.110256Z"
        },
        "id": "25029068166137d4"
      },
      "cell_type": "code",
      "source": [
        "X_train"
      ],
      "outputs": [],
      "execution_count": null,
      "id": "25029068166137d4"
    },
    {
      "metadata": {
        "ExecuteTime": {
          "end_time": "2024-05-08T16:15:20.152846Z",
          "start_time": "2024-05-08T16:15:20.139846Z"
        },
        "id": "1abf21265c2c899a"
      },
      "cell_type": "code",
      "source": [
        "lrc = LogisticRegression(solver = 'liblinear', penalty = 'l1')\n",
        "rfc = RandomForestClassifier(n_estimators = 50, random_state = 2 )\n",
        "gbdt = GradientBoostingClassifier(n_estimators = 50, random_state = 2)\n",
        "xgb  = XGBClassifier(n_estimators = 50, random_state = 2)\n",
        "\n",
        "models = [lrc, rfc, gbdt, xgb]"
      ],
      "outputs": [],
      "execution_count": null,
      "id": "1abf21265c2c899a"
    },
    {
      "metadata": {
        "ExecuteTime": {
          "end_time": "2024-05-08T16:15:20.168446Z",
          "start_time": "2024-05-08T16:15:20.154849Z"
        },
        "id": "450aa16af437794e"
      },
      "cell_type": "code",
      "source": [
        "def train_model(model, X_train, X_test, y_train, y_test):\n",
        "      model.fit(X_train,y_train)\n",
        "      y_pred = model.predict(X_test)\n",
        "      roc_auc = roc_auc_score(y_test, y_pred)\n",
        "      precision = precision_score(y_test, y_pred)\n",
        "      return roc_auc, precision"
      ],
      "outputs": [],
      "execution_count": null,
      "id": "450aa16af437794e"
    },
    {
      "metadata": {
        "ExecuteTime": {
          "end_time": "2024-05-08T16:15:21.381312Z",
          "start_time": "2024-05-08T16:15:20.169447Z"
        },
        "id": "df20c480dc469bb1"
      },
      "cell_type": "code",
      "source": [
        "for model in models:\n",
        "    roc_auc, precision = train_model(model, X_train, X_test, y_train, y_test)\n",
        "    print()\n",
        "    print(\"For: \", model)\n",
        "    print(\"ROC-AUC: \", roc_auc)\n",
        "    print(\"Precision: \", precision)"
      ],
      "outputs": [],
      "execution_count": null,
      "id": "df20c480dc469bb1"
    },
    {
      "metadata": {
        "ExecuteTime": {
          "end_time": "2024-05-08T16:15:21.397165Z",
          "start_time": "2024-05-08T16:15:21.383322Z"
        },
        "id": "643abc6baf676454"
      },
      "cell_type": "code",
      "source": [
        "# Функция нахождения лучшей модели\n",
        "def best_model(models, X_train, X_test, y_train, y_test):\n",
        "    best_roc_auc = 0\n",
        "    best_ml = None\n",
        "    for model in models:\n",
        "      y_pred = model.predict(X_test)\n",
        "      roc_auc = roc_auc_score(y_test, y_pred)\n",
        "      if roc_auc > best_roc_auc:\n",
        "        best_ml = model\n",
        "        best_roc_auc = roc_auc\n",
        "    return best_ml"
      ],
      "outputs": [],
      "execution_count": null,
      "id": "643abc6baf676454"
    },
    {
      "metadata": {
        "ExecuteTime": {
          "end_time": "2024-05-08T16:15:21.724767Z",
          "start_time": "2024-05-08T16:15:21.399166Z"
        },
        "id": "3660b837088931a7"
      },
      "cell_type": "code",
      "source": [
        "# Построим ROC-AUC кривую для лучшей модели\n",
        "model = best_model(models, X_train, X_test, y_train, y_test)\n",
        "\n",
        "# Предсказанные вероятности класса 1\n",
        "y_pred_proba = model.predict_proba(X_test)[:,1]\n",
        "\n",
        "# Вычисление ROC кривой и площади под кривой (AUC)\n",
        "fpr, tpr, _ = roc_curve(y_test, y_pred_proba)\n",
        "roc_auc = auc(fpr, tpr)\n",
        "\n",
        "# Построение ROC кривой\n",
        "plt.figure()\n",
        "plt.plot(fpr, tpr, color='darkorange', lw=2, label='ROC curve (area = %0.2f)' % roc_auc)\n",
        "plt.plot([0, 1], [0, 1], color='navy', lw=2, linestyle='--')\n",
        "plt.xlim([-0.05, 1.05])  # изменение пределов оси x для лучшей визуализации\n",
        "plt.ylim([-0.05, 1.05])  # изменение пределов оси y для лучшей визуализации\n",
        "plt.xlabel('Ложноположительная оценка (False Positive Rate)')\n",
        "plt.ylabel('Истинноположительная оценка (True Positive Rate)')\n",
        "plt.title('Характеристика работы приемника (ROC)')\n",
        "plt.legend(loc=\"lower right\")\n",
        "plt.show()"
      ],
      "outputs": [],
      "execution_count": null,
      "id": "3660b837088931a7"
    },
    {
      "metadata": {
        "ExecuteTime": {
          "end_time": "2024-05-08T16:15:21.739922Z",
          "start_time": "2024-05-08T16:15:21.726855Z"
        },
        "id": "a91da71efc2843a9"
      },
      "cell_type": "code",
      "source": [],
      "outputs": [],
      "execution_count": null,
      "id": "a91da71efc2843a9"
    },
    {
      "metadata": {
        "id": "3b08447fe2d7160"
      },
      "cell_type": "code",
      "outputs": [],
      "execution_count": null,
      "source": [],
      "id": "3b08447fe2d7160"
    }
  ],
  "metadata": {
    "kernelspec": {
      "display_name": "Python 3",
      "language": "python",
      "name": "python3"
    },
    "language_info": {
      "codemirror_mode": {
        "name": "ipython",
        "version": 2
      },
      "file_extension": ".py",
      "mimetype": "text/x-python",
      "name": "python",
      "nbconvert_exporter": "python",
      "pygments_lexer": "ipython2",
      "version": "2.7.6"
    },
    "colab": {
      "provenance": []
    }
  },
  "nbformat": 4,
  "nbformat_minor": 5
}